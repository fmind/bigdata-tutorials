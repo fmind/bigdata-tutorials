{
 "cells": [
  {
   "cell_type": "markdown",
   "metadata": {
    "nbgrader": {
     "grade": false,
     "grade_id": "cell-68eef9ac5b325521",
     "locked": true,
     "schema_version": 1,
     "solution": false
    }
   },
   "source": [
    "# Tutorial 01: SQL"
   ]
  },
  {
   "cell_type": "markdown",
   "metadata": {
    "nbgrader": {
     "grade": false,
     "grade_id": "cell-7919bf532b89719d",
     "locked": true,
     "schema_version": 1,
     "solution": false
    }
   },
   "source": [
    "**The goal of this tutorial is to answer 10 questions about movies using SQL queries.**\n",
    "\n",
    "The database is stored on a SQLite file and populated from a subset of IMDB datasets.\n",
    "\n",
    "Note that you should not order your results if the question does not mention it !\n",
    "\n",
    "__Grade Scale__: 20 points\n",
    "* correct answer: 2 point\n",
    "* incorrect answer: 0 point\n",
    "\n",
    "__Further documentations__:\n",
    "\n",
    "* https://www.imdb.com/interfaces/\n",
    "* http://www.tutorialspoint.com/sqlite/\n",
    "* https://learnxinyminutes.com/docs/python/\n",
    "* https://docs.python.org/3/library/sqlite3.html\n",
    "* https://www.dataquest.io/blog/jupyter-notebook-tutorial/"
   ]
  },
  {
   "cell_type": "markdown",
   "metadata": {
    "nbgrader": {
     "grade": false,
     "grade_id": "cell-217e8738287f37e0",
     "locked": true,
     "schema_version": 1,
     "solution": false
    }
   },
   "source": [
    "# Core"
   ]
  },
  {
   "cell_type": "code",
   "execution_count": 1,
   "metadata": {
    "nbgrader": {
     "grade": false,
     "grade_id": "cell-7b44bf2ac6e84456",
     "locked": true,
     "schema_version": 1,
     "solution": false
    }
   },
   "outputs": [],
   "source": [
    "# import sqlite from standard library\n",
    "import sqlite3\n",
    "\n",
    "# initialize a connection to the database\n",
    "DB = sqlite3.connect(\"imdb.sqlite\")\n",
    "\n",
    "# create a helper function to execute a query\n",
    "def Q(query):\n",
    "    \"\"\"Return the first 50 rows from a query.\"\"\"\n",
    "    return DB.execute(query).fetchmany(50)"
   ]
  },
  {
   "cell_type": "markdown",
   "metadata": {
    "nbgrader": {
     "grade": false,
     "grade_id": "cell-e8b698bd44783567",
     "locked": true,
     "schema_version": 1,
     "solution": false
    }
   },
   "source": [
    "# Examples"
   ]
  },
  {
   "cell_type": "code",
   "execution_count": 2,
   "metadata": {
    "nbgrader": {
     "grade": false,
     "grade_id": "cell-4c115108a870319c",
     "locked": true,
     "schema_version": 1,
     "solution": false
    }
   },
   "outputs": [
    {
     "data": {
      "text/plain": [
       "[('names',),\n",
       " ('basics',),\n",
       " ('akas',),\n",
       " ('ratings',),\n",
       " ('writers',),\n",
       " ('directors',),\n",
       " ('principals',)]"
      ]
     },
     "execution_count": 2,
     "metadata": {},
     "output_type": "execute_result"
    }
   ],
   "source": [
    "# print the table names\n",
    "Q(\"SELECT name FROM sqlite_master WHERE type='table'\")"
   ]
  },
  {
   "cell_type": "code",
   "execution_count": 3,
   "metadata": {},
   "outputs": [
    {
     "name": "stdout",
     "output_type": "stream",
     "text": [
      "Table: names\n",
      "(0, 'nconst', 'TEXT', 1, None, 1)\n",
      "(1, 'primaryName', 'TEXT', 1, None, 0)\n",
      "(2, 'birthYear', 'INTEGER', 0, None, 0)\n",
      "(3, 'deathYear', 'INTEGER', 0, None, 0)\n",
      "(4, 'primaryProfession', 'TEXT', 1, None, 0)\n",
      "(5, 'knownForTitles', 'TEXT', 0, None, 0)\n",
      "\n",
      "Table: basics\n",
      "(0, 'tconst', 'TEXT', 1, None, 1)\n",
      "(1, 'titleType', 'TEXT', 1, None, 0)\n",
      "(2, 'primaryTitle', 'TEXT', 1, None, 0)\n",
      "(3, 'originalTitle', 'TEXT', 0, None, 0)\n",
      "(4, 'isAdult', 'BOOLEAN', 1, None, 0)\n",
      "(5, 'startYear', 'INTEGER', 0, None, 0)\n",
      "(6, 'endYear', 'INTEGER', 0, None, 0)\n",
      "(7, 'runtimeMinutes', 'INTEGER', 0, None, 0)\n",
      "(8, 'genres', 'TEXT', 0, None, 0)\n",
      "\n",
      "Table: akas\n",
      "(0, 'titleId', 'TEXT', 1, None, 1)\n",
      "(1, 'ordering', 'INTEGER', 1, None, 2)\n",
      "(2, 'title', 'TEX', 1, None, 0)\n",
      "(3, 'region', 'TEXT', 0, None, 0)\n",
      "(4, 'language', 'TEXT', 0, None, 0)\n",
      "(5, 'types', 'TEXT', 0, None, 0)\n",
      "(6, 'attributes', 'TEXT', 0, None, 0)\n",
      "(7, 'isOriginalTitle', 'BOOLEAN', 0, None, 0)\n",
      "\n",
      "Table: ratings\n",
      "(0, 'tconst', 'TEXT', 1, None, 1)\n",
      "(1, 'averageRating', 'REAL', 1, None, 0)\n",
      "(2, 'numVotes', 'INTEGER', 0, None, 0)\n",
      "\n",
      "Table: writers\n",
      "(0, 'tconst', 'TEXT', 1, None, 1)\n",
      "(1, 'nconst', 'TEXT', 1, None, 2)\n",
      "\n",
      "Table: directors\n",
      "(0, 'tconst', 'TEXT', 0, None, 1)\n",
      "(1, 'nconst', 'TEXT', 0, None, 2)\n",
      "\n",
      "Table: principals\n",
      "(0, 'tconst', 'TEXT', 1, None, 1)\n",
      "(1, 'ordering', 'INTEGER', 1, None, 2)\n",
      "(2, 'nconst', 'TEXT', 1, None, 0)\n",
      "(3, 'category', 'TEXT', 1, None, 0)\n",
      "(4, 'job', 'TEXT', 0, None, 0)\n",
      "(5, 'characters', 'TEXT', 0, None, 0)\n",
      "\n"
     ]
    }
   ],
   "source": [
    "# print the table columns\n",
    "for (name,) in Q(\"SELECT name FROM sqlite_master WHERE type='table'\"):\n",
    "    print(\"Table: {}\".format(name))\n",
    "    for column in Q(\"PRAGMA table_info('{}')\".format(name)):\n",
    "        print(column)\n",
    "    print()"
   ]
  },
  {
   "cell_type": "code",
   "execution_count": 4,
   "metadata": {
    "nbgrader": {
     "grade": false,
     "grade_id": "cell-46aa56e45d93b13a",
     "locked": true,
     "schema_version": 1,
     "solution": false
    }
   },
   "outputs": [
    {
     "data": {
      "text/plain": [
       "[(107346,)]"
      ]
     },
     "execution_count": 4,
     "metadata": {},
     "output_type": "execute_result"
    }
   ],
   "source": [
    "# count the number of persons\n",
    "Q(\"SELECT COUNT(*) from names\")"
   ]
  },
  {
   "cell_type": "code",
   "execution_count": 5,
   "metadata": {
    "nbgrader": {
     "grade": false,
     "grade_id": "cell-95d07b5badacc72a",
     "locked": true,
     "schema_version": 1,
     "solution": false
    },
    "scrolled": false
   },
   "outputs": [
    {
     "data": {
      "text/plain": [
       "[('Humphrey Bogart',),\n",
       " ('Cary Grant',),\n",
       " ('Alfred Hitchcock',),\n",
       " ('Elvis Presley',),\n",
       " ('Raquel Welch',),\n",
       " ('Henner Hofmann',),\n",
       " ('Brad Pitt',),\n",
       " ('Woody Allen',),\n",
       " ('Gillian Anderson',),\n",
       " ('Pamela Anderson',)]"
      ]
     },
     "execution_count": 5,
     "metadata": {},
     "output_type": "execute_result"
    }
   ],
   "source": [
    "# return the name of the first 10 actors\n",
    "Q(\"SELECT primaryName FROM names LIMIT 10\")"
   ]
  },
  {
   "cell_type": "code",
   "execution_count": 6,
   "metadata": {
    "nbgrader": {
     "grade": false,
     "grade_id": "cell-2e537de8edca9e54",
     "locked": true,
     "schema_version": 1,
     "solution": false
    }
   },
   "outputs": [
    {
     "data": {
      "text/plain": [
       "[('The Wandering Soap Opera', 'Raoul Ruiz'),\n",
       " ('The Wandering Soap Opera', 'Pía Rey'),\n",
       " ('Joe Finds Grace', 'Anthony Harrison'),\n",
       " ('Bunyan and Babe', 'Michael A. Nickles'),\n",
       " ('Bunyan and Babe', 'Julia Wall'),\n",
       " ('The Evil Within', 'Andrew Getty'),\n",
       " ('Boy with a Movie Camera', 'Martiros Vartanov'),\n",
       " ('The Promise of Perfume', 'Pavlina Proevska'),\n",
       " ('Clawed', 'Steve Taylor'),\n",
       " ('Clawed', 'Rahul Chatterjee')]"
      ]
     },
     "execution_count": 6,
     "metadata": {},
     "output_type": "execute_result"
    }
   ],
   "source": [
    "# use triple-quote to execute a long query\n",
    "Q(\"\"\"\n",
    "SELECT m.primaryTitle, n.primaryName\n",
    "FROM writers as w\n",
    "INNER JOIN names AS n on w.nconst = n.nconst\n",
    "INNER JOIN basics AS m ON w.tconst = m.tconst\n",
    "LIMIT 10\n",
    "\"\"\")"
   ]
  },
  {
   "cell_type": "code",
   "execution_count": 7,
   "metadata": {
    "nbgrader": {
     "grade": false,
     "grade_id": "cell-2df22640973a13c5",
     "locked": true,
     "schema_version": 1,
     "solution": false
    }
   },
   "outputs": [],
   "source": [
    "# if an exception occurs, don't panic !\n",
    "# read the error message, find the cause and fix the query\n",
    "# in this case, the table 'movies' does not exist, use 'basics' instead\n",
    "\n",
    "# uncomment to see the error\n",
    "# Q(\"SELECT * FROM movies;\")"
   ]
  },
  {
   "cell_type": "markdown",
   "metadata": {},
   "source": [
    "**This diagram shows the structure of a SELECT statement.**\n",
    "\n",
    "Find more at this address: https://www.sqlite.org/lang_select.html\n",
    "\n",
    "![SELECT](https://www.sqlite.org/images/syntax/select-stmt.gif)"
   ]
  },
  {
   "cell_type": "markdown",
   "metadata": {
    "nbgrader": {
     "grade": false,
     "grade_id": "cell-b95e075db09f6692",
     "locked": true,
     "schema_version": 1,
     "solution": false
    }
   },
   "source": [
    "# QUESTIONS"
   ]
  },
  {
   "cell_type": "markdown",
   "metadata": {
    "nbgrader": {
     "grade": false,
     "grade_id": "cell-bcac901263109950",
     "locked": true,
     "schema_version": 1,
     "solution": false
    }
   },
   "source": [
    "__1. How many movies are contained in the database ?__ \n",
    "- _hint_: use the COUNT operator in the SELECT clause\n",
    "- _return_: COUNT (aggregate value)\n",
    "- _tables_: basis"
   ]
  },
  {
   "cell_type": "code",
   "execution_count": 8,
   "metadata": {
    "nbgrader": {
     "grade": false,
     "grade_id": "cell-72d74476f5d31c30",
     "locked": false,
     "schema_version": 1,
     "solution": true
    }
   },
   "outputs": [
    {
     "data": {
      "text/plain": [
       "[(18199,)]"
      ]
     },
     "execution_count": 8,
     "metadata": {},
     "output_type": "execute_result"
    }
   ],
   "source": [
    "def Q1():\n",
    "    ### BEGIN SOLUTION\n",
    "    return Q(\"\"\"\n",
    "    SELECT COUNT(*) FROM basics\n",
    "    \"\"\")\n",
    "    ### END SOLUTION\n",
    "\n",
    "Q1()"
   ]
  },
  {
   "cell_type": "code",
   "execution_count": 9,
   "metadata": {
    "nbgrader": {
     "grade": true,
     "grade_id": "cell-8a1ed4b999dd3ced",
     "locked": true,
     "points": 2,
     "schema_version": 1,
     "solution": false
    }
   },
   "outputs": [],
   "source": [
    "assert len(Q1()) == 1\n",
    "assert len(Q1()[0]) == 1\n",
    "### BEGIN HIDDEN TESTS\n",
    "assert Q1() == [(18199,)]\n",
    "### END HIDDEN TESTS"
   ]
  },
  {
   "cell_type": "markdown",
   "metadata": {
    "nbgrader": {
     "grade": false,
     "grade_id": "cell-56ae9a29ec379af9",
     "locked": true,
     "schema_version": 1,
     "solution": false
    }
   },
   "source": [
    "__2. What are the primary title and start year of the first 10 movies ?__\n",
    "- _hint_: use the LIMIT clause to return a fix number of row\n",
    "- _return_: primaryTitle, startYear\n",
    "- _tables_: basis"
   ]
  },
  {
   "cell_type": "code",
   "execution_count": 10,
   "metadata": {
    "nbgrader": {
     "grade": false,
     "grade_id": "cell-842f6f5e611175c3",
     "locked": false,
     "schema_version": 1,
     "solution": true
    }
   },
   "outputs": [
    {
     "data": {
      "text/plain": [
       "[('The Wandering Soap Opera', 2017),\n",
       " ('Bigfoot', 2017),\n",
       " ('Joe Finds Grace', 2017),\n",
       " ('Bunyan and Babe', 2017),\n",
       " ('The Evil Within', 2017),\n",
       " ('Boy with a Movie Camera', 2017),\n",
       " ('The Promise of Perfume', 2017),\n",
       " ('Clawed', 2017),\n",
       " ('Wonder Woman', 2017),\n",
       " ('The Only Living Boy in New York', 2017)]"
      ]
     },
     "execution_count": 10,
     "metadata": {},
     "output_type": "execute_result"
    }
   ],
   "source": [
    "def Q2():\n",
    "    ### BEGIN SOLUTION\n",
    "    return Q(\"\"\"\n",
    "    SELECT primaryTitle, startYear FROM basics LIMIT 10\n",
    "     \"\"\")\n",
    "    ### END SOLUTION\n",
    "\n",
    "Q2()"
   ]
  },
  {
   "cell_type": "code",
   "execution_count": 11,
   "metadata": {
    "nbgrader": {
     "grade": true,
     "grade_id": "cell-acd34739c8644a49",
     "locked": true,
     "points": 2,
     "schema_version": 1,
     "solution": false
    }
   },
   "outputs": [],
   "source": [
    "assert len(Q2()) == 10\n",
    "assert all(len(row) == 2 for row in Q2())\n",
    "### BEGIN HIDDEN TESTS\n",
    "assert Q2() == [\n",
    "    ('The Wandering Soap Opera', 2017),\n",
    "    ('Bigfoot', 2017),\n",
    "    ('Joe Finds Grace', 2017),\n",
    "    ('Bunyan and Babe', 2017),\n",
    "    ('The Evil Within', 2017),\n",
    "    ('Boy with a Movie Camera', 2017),\n",
    "    ('The Promise of Perfume', 2017),\n",
    "    ('Clawed', 2017),\n",
    "    ('Wonder Woman', 2017),\n",
    "    ('The Only Living Boy in New York', 2017),\n",
    "]\n",
    "### END HIDDEN TESTS"
   ]
  },
  {
   "cell_type": "markdown",
   "metadata": {
    "nbgrader": {
     "grade": false,
     "grade_id": "cell-75c98157f8440d14",
     "locked": true,
     "schema_version": 1,
     "solution": false
    }
   },
   "source": [
    "__3. What are the 10 first distinct principals category sorted alphabetically (A -> Z)?__\n",
    "- _hint_: use the ORDER BY clause to sort results in ascending order\n",
    "- _return_: distinct category\n",
    "- _tables_: principals"
   ]
  },
  {
   "cell_type": "code",
   "execution_count": 12,
   "metadata": {
    "nbgrader": {
     "grade": false,
     "grade_id": "cell-9775027ca1ff4dde",
     "locked": false,
     "schema_version": 1,
     "solution": true
    }
   },
   "outputs": [
    {
     "data": {
      "text/plain": [
       "[('actor',),\n",
       " ('actress',),\n",
       " ('archive_footage',),\n",
       " ('archive_sound',),\n",
       " ('cinematographer',),\n",
       " ('composer',),\n",
       " ('director',),\n",
       " ('editor',),\n",
       " ('producer',),\n",
       " ('production_designer',)]"
      ]
     },
     "execution_count": 12,
     "metadata": {},
     "output_type": "execute_result"
    }
   ],
   "source": [
    "def Q3():\n",
    "    ### BEGIN SOLUTION\n",
    "    return Q(\"\"\"\n",
    "    SELECT distinct category FROM principals ORDER BY category LIMIT 10\n",
    "    \"\"\")\n",
    "    ### END SOLUTION\n",
    "\n",
    "Q3()"
   ]
  },
  {
   "cell_type": "code",
   "execution_count": 13,
   "metadata": {
    "nbgrader": {
     "grade": true,
     "grade_id": "cell-97068598a88c377e",
     "locked": true,
     "points": 2,
     "schema_version": 1,
     "solution": false
    }
   },
   "outputs": [],
   "source": [
    "assert len(Q3()) == 10\n",
    "assert all(len(row) == 1 for row in Q3())\n",
    "### BEGIN HIDDEN TESTS\n",
    "assert Q3() == [\n",
    "    ('actor',),\n",
    "    ('actress',),\n",
    "    ('archive_footage',),\n",
    "    ('archive_sound',),\n",
    "    ('cinematographer',),\n",
    "    ('composer',),\n",
    "    ('director',),\n",
    "    ('editor',),\n",
    "    ('producer',),\n",
    "    ('production_designer',)\n",
    "]\n",
    "### END HIDDEN TESTS"
   ]
  },
  {
   "cell_type": "markdown",
   "metadata": {
    "nbgrader": {
     "grade": false,
     "grade_id": "cell-bc535e9341842877",
     "locked": true,
     "schema_version": 1,
     "solution": false
    }
   },
   "source": [
    "__4. Which persons are born after 1990 (excluded) and died ?__\n",
    "- _hint_: use the AND operator to combine query conditions\n",
    "- _return_: primaryName, birthYear, deathYear\n",
    "- _tables_: names"
   ]
  },
  {
   "cell_type": "code",
   "execution_count": 14,
   "metadata": {
    "nbgrader": {
     "grade": false,
     "grade_id": "cell-079d57c9256bb04a",
     "locked": false,
     "schema_version": 1,
     "solution": true
    }
   },
   "outputs": [
    {
     "data": {
      "text/plain": [
       "[('Michael Brown', 1996, 2014),\n",
       " ('Maple Batalia', 1992, 2011),\n",
       " ('Egor Klinaev', 1999, 2017),\n",
       " ('August Ames', 1994, 2017),\n",
       " ('Joe Beer', 1997, 2017)]"
      ]
     },
     "execution_count": 14,
     "metadata": {},
     "output_type": "execute_result"
    }
   ],
   "source": [
    "def Q4():\n",
    "    ### BEGIN SOLUTION\n",
    "    return Q(\"\"\"\n",
    "    SELECT primaryName, birthYear, deathYear FROM names\n",
    "    WHERE birthYear > 1990 AND deathYear IS NOT NULL\n",
    "    \"\"\")\n",
    "    ### END SOLUTION\n",
    "\n",
    "Q4()"
   ]
  },
  {
   "cell_type": "code",
   "execution_count": 15,
   "metadata": {
    "nbgrader": {
     "grade": true,
     "grade_id": "cell-a18e36853311f009",
     "locked": true,
     "points": 2,
     "schema_version": 1,
     "solution": false
    }
   },
   "outputs": [],
   "source": [
    "assert len(Q4()) == 5\n",
    "assert all(len(row) == 3 for row in Q4())\n",
    "### BEGIN HIDDEN TESTS\n",
    "assert Q4() == [\n",
    "    ('Michael Brown', 1996, 2014),\n",
    "    ('Maple Batalia', 1992, 2011),\n",
    "    ('Egor Klinaev', 1999, 2017),\n",
    "    ('August Ames', 1994, 2017),\n",
    "    ('Joe Beer', 1997, 2017),\n",
    "]\n",
    "### END HIDDEN TESTS"
   ]
  },
  {
   "cell_type": "markdown",
   "metadata": {
    "nbgrader": {
     "grade": false,
     "grade_id": "cell-88ddcc631415c545",
     "locked": true,
     "schema_version": 1,
     "solution": false
    }
   },
   "source": [
    "__5. What are the title and language of movies in German (de) or Dutch (nl) ?__\n",
    "- _hint_: use the OR operator to combine query conditions\n",
    "- _return_: title, language\n",
    "- _tables_: akas"
   ]
  },
  {
   "cell_type": "code",
   "execution_count": 16,
   "metadata": {
    "nbgrader": {
     "grade": false,
     "grade_id": "cell-d147c72642c464cc",
     "locked": false,
     "schema_version": 1,
     "solution": true
    }
   },
   "outputs": [
    {
     "data": {
      "text/plain": [
       "[('Schneemann', 'de'),\n",
       " ('My Little Pony: De Film', 'nl'),\n",
       " ('Vom Ende einer Geschichte', 'de'),\n",
       " ('Detektiv Conan: Der purpurrote Liebesbrief', 'de'),\n",
       " ('Leaning into the Wind - Andy Goldsworthy', 'de'),\n",
       " ('Immer noch eine unbequeme Wahrheit: Unsere Zeit läuft', 'de'),\n",
       " ('Er Sie Ich', 'de'),\n",
       " ('Pokémon de Film: Ik Kies Jou!', 'nl'),\n",
       " ('Little Heroes', 'de'),\n",
       " ('Didi Contractor - Leben im Lehmhaus', 'de'),\n",
       " ('Die Gentrifizierung bin ich. Beichte eines Finsterlings', 'de')]"
      ]
     },
     "execution_count": 16,
     "metadata": {},
     "output_type": "execute_result"
    }
   ],
   "source": [
    "def Q5():\n",
    "    ### BEGIN SOLUTION\n",
    "    return Q(\"\"\"\n",
    "    SELECT title, language FROM akas\n",
    "    WHERE language = 'nl' OR language = 'de'\n",
    "    \"\"\")\n",
    "    ### END SOLUTION\n",
    "\n",
    "Q5()"
   ]
  },
  {
   "cell_type": "code",
   "execution_count": 17,
   "metadata": {
    "nbgrader": {
     "grade": true,
     "grade_id": "cell-b350102bd1207fae",
     "locked": true,
     "points": 2,
     "schema_version": 1,
     "solution": false
    }
   },
   "outputs": [],
   "source": [
    "assert len(Q5()) == 11\n",
    "assert all(len(row) == 2 for row in Q5())\n",
    "### BEGIN HIDDEN TESTS\n",
    "assert Q5() == [\n",
    "    ('Schneemann', 'de'),\n",
    "    ('My Little Pony: De Film', 'nl'),\n",
    "    ('Vom Ende einer Geschichte', 'de'),\n",
    "    ('Detektiv Conan: Der purpurrote Liebesbrief', 'de'),\n",
    "    ('Leaning into the Wind - Andy Goldsworthy', 'de'),\n",
    "    ('Immer noch eine unbequeme Wahrheit: Unsere Zeit läuft', 'de'),\n",
    "    ('Er Sie Ich', 'de'),\n",
    "    ('Pokémon de Film: Ik Kies Jou!', 'nl'),\n",
    "    ('Little Heroes', 'de'),\n",
    "    ('Didi Contractor - Leben im Lehmhaus', 'de'),\n",
    "    ('Die Gentrifizierung bin ich. Beichte eines Finsterlings', 'de'),\n",
    "]\n",
    "### END HIDDEN TESTS"
   ]
  },
  {
   "cell_type": "markdown",
   "metadata": {
    "nbgrader": {
     "grade": false,
     "grade_id": "cell-3a0275f72bc0c2df",
     "locked": true,
     "schema_version": 1,
     "solution": false
    }
   },
   "source": [
    "__6. What are the director, movie name and runtime of the first 10 movies whose runtime > 120 ?__\n",
    "- _hint_: you should combine INNER JOIN and WHERE clauses\n",
    "- _return_: names.primaryName, basics.primaryTitle, basics.runtimeMinutes\n",
    "- _tables_: directors, basics, names"
   ]
  },
  {
   "cell_type": "code",
   "execution_count": 18,
   "metadata": {
    "nbgrader": {
     "grade": false,
     "grade_id": "cell-70198a5ed000178b",
     "locked": false,
     "schema_version": 1,
     "solution": true
    }
   },
   "outputs": [
    {
     "data": {
      "text/plain": [
       "[('Patty Jenkins', 'Wonder Woman', 141),\n",
       " ('Brad Batchelor', 'Alexander Jamieson', 135),\n",
       " ('Alexander Payne', 'Downsizing', 135),\n",
       " ('Andy Muschietti', 'It', 135),\n",
       " ('Tommy Wirkola', 'What Happened to Monday', 123),\n",
       " ('Bruce Isacson', 'South Dakota', 127),\n",
       " ('Benny Boom', 'All Eyez on Me', 139),\n",
       " ('Jan Verheyen', 'Control', 127),\n",
       " ('Niki Caro', \"The Zookeeper's Wife\", 127),\n",
       " ('Joachim Rønning', 'Pirates of the Caribbean: Dead Men Tell No Tales', 129)]"
      ]
     },
     "execution_count": 18,
     "metadata": {},
     "output_type": "execute_result"
    }
   ],
   "source": [
    "def Q6():\n",
    "    ### BEGIN SOLUTION\n",
    "    return Q(\"\"\"\n",
    "    SELECT primaryName, primaryTitle, runtimeMinutes FROM directors\n",
    "    INNER JOIN basics ON directors.tconst = basics.tconst\n",
    "    INNER JOIN names ON directors.nconst = names.nconst\n",
    "    AND basics.runtimeMinutes > 120 LIMIT 10\n",
    "    \"\"\")\n",
    "    ### END SOLUTION\n",
    "\n",
    "Q6()"
   ]
  },
  {
   "cell_type": "code",
   "execution_count": 19,
   "metadata": {
    "nbgrader": {
     "grade": true,
     "grade_id": "cell-ec06aec698e82066",
     "locked": true,
     "points": 2,
     "schema_version": 1,
     "solution": false
    }
   },
   "outputs": [],
   "source": [
    "assert len(Q6()) == 10\n",
    "assert all(len(row) == 3 for row in Q6())\n",
    "### BEGIN HIDDEN TESTS\n",
    "assert Q6() == [\n",
    "    ('Patty Jenkins', 'Wonder Woman', 141),\n",
    "    ('Brad Batchelor', 'Alexander Jamieson', 135),\n",
    "    ('Alexander Payne', 'Downsizing', 135),\n",
    "    ('Andy Muschietti', 'It', 135),\n",
    "    ('Tommy Wirkola', 'What Happened to Monday', 123),\n",
    "    ('Bruce Isacson', 'South Dakota', 127),\n",
    "    ('Benny Boom', 'All Eyez on Me', 139),\n",
    "    ('Jan Verheyen', 'Control', 127),\n",
    "    ('Niki Caro', \"The Zookeeper's Wife\", 127),\n",
    "    ('Joachim Rønning', 'Pirates of the Caribbean: Dead Men Tell No Tales', 129) ,\n",
    "]\n",
    "### END HIDDEN TESTS"
   ]
  },
  {
   "cell_type": "markdown",
   "metadata": {
    "nbgrader": {
     "grade": false,
     "grade_id": "cell-8789b1cd95a47af4",
     "locked": true,
     "schema_version": 1,
     "solution": false
    }
   },
   "source": [
    "__7. Which birth years are associated to more than 500 persons (excluded) ?__\n",
    "- _hint_: use the HAVING clause to filter aggregation result\n",
    "- _return_: birthYear, COUNT (aggregated value)\n",
    "- _tables_: names"
   ]
  },
  {
   "cell_type": "code",
   "execution_count": 20,
   "metadata": {
    "nbgrader": {
     "grade": false,
     "grade_id": "cell-e016cbee7a585cda",
     "locked": false,
     "schema_version": 1,
     "solution": true
    }
   },
   "outputs": [
    {
     "data": {
      "text/plain": [
       "[(1976, 502), (1979, 531), (1980, 520), (1982, 503)]"
      ]
     },
     "execution_count": 20,
     "metadata": {},
     "output_type": "execute_result"
    }
   ],
   "source": [
    "def Q7():\n",
    "    ### BEGIN SOLUTION\n",
    "    return Q(\"\"\"\n",
    "    SELECT birthYear, COUNT(birthYear) FROM names\n",
    "    GROUP BY birthYear HAVING COUNT(birthYear) > 500\n",
    "    \"\"\")\n",
    "    ### END SOLUTION\n",
    "\n",
    "Q7()"
   ]
  },
  {
   "cell_type": "code",
   "execution_count": 21,
   "metadata": {
    "nbgrader": {
     "grade": true,
     "grade_id": "cell-b58188849ca4ecbf",
     "locked": true,
     "points": 2,
     "schema_version": 1,
     "solution": false
    }
   },
   "outputs": [],
   "source": [
    "assert len(Q7()) == 4\n",
    "assert all(len(row) == 2 for row in Q7())\n",
    "### BEGIN HIDDEN TESTS\n",
    "assert Q7() == [\n",
    "    (1976, 502),\n",
    "    (1979, 531),\n",
    "    (1980, 520),\n",
    "    (1982, 503),\n",
    "]\n",
    "### END HIDDEN TESTS"
   ]
  },
  {
   "cell_type": "markdown",
   "metadata": {
    "nbgrader": {
     "grade": false,
     "grade_id": "cell-58f096c9f52d03a8",
     "locked": true,
     "schema_version": 1,
     "solution": false
    }
   },
   "source": [
    "__8. What are the first 10 pair of persons born the same year and after 2000 ?__\n",
    "- _hint_: find an appropriate condition for the INNER JOIN clause\n",
    "- _return_: primaryName, primaryName\n",
    "- _tables_: names, names"
   ]
  },
  {
   "cell_type": "code",
   "execution_count": 22,
   "metadata": {
    "nbgrader": {
     "grade": false,
     "grade_id": "cell-8d7e84740557029a",
     "locked": false,
     "schema_version": 1,
     "solution": true
    }
   },
   "outputs": [
    {
     "data": {
      "text/plain": [
       "[('Alec Coulouris', 'Alec Coulouris'),\n",
       " ('Alec Coulouris', 'Dixie Egerickx'),\n",
       " ('Alec Coulouris', 'Ella Anderson'),\n",
       " ('Alec Coulouris', 'Eun-hyung Jo'),\n",
       " ('Alec Coulouris', 'Fantine Harduin'),\n",
       " ('Alec Coulouris', 'Farrah Mackenzie'),\n",
       " ('Alec Coulouris', 'Félix Bossuet'),\n",
       " ('Alec Coulouris', 'Gabriel Albuquerque'),\n",
       " ('Alec Coulouris', 'Jessica Cherniak'),\n",
       " ('Alec Coulouris', 'Maddie Dixon-Poirier')]"
      ]
     },
     "execution_count": 22,
     "metadata": {},
     "output_type": "execute_result"
    }
   ],
   "source": [
    "def Q8():\n",
    "    ### BEGIN SOLUTION\n",
    "    return Q(\"\"\"\n",
    "    SELECT n1.primaryName, n2.primaryName FROM names as n1\n",
    "    INNER JOIN names as n2 ON n1.birthYear = n2.birthYear AND n1.birthYear > 2000\n",
    "    LIMIT 10\n",
    "    \"\"\")\n",
    "    ### END SOLUTION\n",
    "\n",
    "Q8()"
   ]
  },
  {
   "cell_type": "code",
   "execution_count": 23,
   "metadata": {
    "nbgrader": {
     "grade": true,
     "grade_id": "cell-cbfda7c337d98b73",
     "locked": true,
     "points": 2,
     "schema_version": 1,
     "solution": false
    }
   },
   "outputs": [],
   "source": [
    "assert len(Q8()) == 10\n",
    "assert all(len(row) == 2 for row in Q8())\n",
    "### BEGIN HIDDEN TESTS\n",
    "assert Q8() == [\n",
    "    ('Alec Coulouris', 'Alec Coulouris'),\n",
    "    ('Alec Coulouris', 'Dixie Egerickx'),\n",
    "    ('Alec Coulouris', 'Ella Anderson'),\n",
    "    ('Alec Coulouris', 'Eun-hyung Jo'),\n",
    "    ('Alec Coulouris', 'Fantine Harduin'),\n",
    "    ('Alec Coulouris', 'Farrah Mackenzie'),\n",
    "    ('Alec Coulouris', 'Félix Bossuet'),\n",
    "    ('Alec Coulouris', 'Gabriel Albuquerque'),\n",
    "    ('Alec Coulouris', 'Jessica Cherniak'),\n",
    "    ('Alec Coulouris', 'Maddie Dixon-Poirier') ,\n",
    "]\n",
    "### END HIDDEN TESTS"
   ]
  },
  {
   "cell_type": "markdown",
   "metadata": {
    "nbgrader": {
     "grade": false,
     "grade_id": "cell-c697a6adc568ade2",
     "locked": true,
     "schema_version": 1,
     "solution": false
    }
   },
   "source": [
    "__9. For which movie title does 'Run-yin Bai' is known for, ordered by movie title ?__\n",
    "- _hint_: don't spend too much time on this question if it is too hard\n",
    "- _return_: primaryName, primaryTitle\n",
    "- _tables_: names, basis"
   ]
  },
  {
   "cell_type": "code",
   "execution_count": 24,
   "metadata": {
    "nbgrader": {
     "grade": false,
     "grade_id": "cell-59998e0034850d4e",
     "locked": false,
     "schema_version": 1,
     "solution": true
    }
   },
   "outputs": [
    {
     "data": {
      "text/plain": [
       "[('Run-yin Bai', 'A Fish Out of Water'),\n",
       " ('Run-yin Bai', 'Mr. Long'),\n",
       " ('Run-yin Bai', 'See You After Life'),\n",
       " ('Run-yin Bai', 'The Bold, the Corrupt, and the Beautiful')]"
      ]
     },
     "execution_count": 24,
     "metadata": {},
     "output_type": "execute_result"
    }
   ],
   "source": [
    "def Q9():\n",
    "    ### BEGIN SOLUTION\n",
    "    return Q(\"\"\"\n",
    "    SELECT primaryName, primaryTitle FROM names\n",
    "    INNER JOIN basics ON names.knownForTitles LIKE '%' || basics.tconst || '%'\n",
    "    WHERE primaryName = 'Run-yin Bai'\n",
    "    ORDER BY primaryTitle\n",
    "    \"\"\")\n",
    "    ### END SOLUTION\n",
    "\n",
    "Q9()"
   ]
  },
  {
   "cell_type": "code",
   "execution_count": 25,
   "metadata": {
    "nbgrader": {
     "grade": true,
     "grade_id": "cell-c4b77509af433302",
     "locked": true,
     "points": 2,
     "schema_version": 1,
     "solution": false
    }
   },
   "outputs": [],
   "source": [
    "assert len(Q9()) == 4\n",
    "assert all(len(row) == 2 for row in Q9())\n",
    "### BEGIN HIDDEN TESTS\n",
    "assert Q9() == [\n",
    "    ('Run-yin Bai', 'A Fish Out of Water'),\n",
    "    ('Run-yin Bai', 'Mr. Long'),\n",
    "    ('Run-yin Bai', 'See You After Life'),\n",
    "    ('Run-yin Bai', 'The Bold, the Corrupt, and the Beautiful'),\n",
    "]\n",
    "### END HIDDEN TESTS"
   ]
  },
  {
   "cell_type": "markdown",
   "metadata": {
    "nbgrader": {
     "grade": false,
     "grade_id": "cell-c860d630d3585aa1",
     "locked": true,
     "schema_version": 1,
     "solution": false
    }
   },
   "source": [
    "__10. How many directors are not writers ?__\n",
    "- _hint_: use the EXCEPT operator to perform a difference on two result sets\n",
    "- _return_: COUNT (aggregate value)\n",
    "- _tables_: writers, directors"
   ]
  },
  {
   "cell_type": "code",
   "execution_count": 26,
   "metadata": {
    "nbgrader": {
     "grade": false,
     "grade_id": "cell-e22c8b6ebf0199e3",
     "locked": false,
     "schema_version": 1,
     "solution": true
    }
   },
   "outputs": [
    {
     "data": {
      "text/plain": [
       "[(8550,)]"
      ]
     },
     "execution_count": 26,
     "metadata": {},
     "output_type": "execute_result"
    }
   ],
   "source": [
    "def Q10():\n",
    "    ### BEGIN SOLUTION\n",
    "    return Q(\"\"\"\n",
    "    SELECT COUNT(*) FROM (\n",
    "        SELECT nconst FROM directors\n",
    "        EXCEPT\n",
    "        SELECT nconst FROM writers\n",
    "    )\n",
    "    \"\"\")\n",
    "    ### END SOLUTION\n",
    "\n",
    "Q10()"
   ]
  },
  {
   "cell_type": "code",
   "execution_count": 27,
   "metadata": {
    "nbgrader": {
     "grade": true,
     "grade_id": "cell-5dbb8567da6a84e2",
     "locked": true,
     "points": 2,
     "schema_version": 1,
     "solution": false
    }
   },
   "outputs": [],
   "source": [
    "assert len(Q10()) == 1\n",
    "assert len(Q10()[0]) == 1\n",
    "### BEGIN HIDDEN TESTS\n",
    "assert Q10() == [(8550,)]\n",
    "### END HIDDEN TESTS"
   ]
  }
 ],
 "metadata": {
  "celltoolbar": "Create Assignment",
  "hide_input": false,
  "kernelspec": {
   "display_name": "Python 3",
   "language": "python",
   "name": "python3"
  },
  "language_info": {
   "codemirror_mode": {
    "name": "ipython",
    "version": 3
   },
   "file_extension": ".py",
   "mimetype": "text/x-python",
   "name": "python",
   "nbconvert_exporter": "python",
   "pygments_lexer": "ipython3",
   "version": "3.7.3"
  }
 },
 "nbformat": 4,
 "nbformat_minor": 2
}
