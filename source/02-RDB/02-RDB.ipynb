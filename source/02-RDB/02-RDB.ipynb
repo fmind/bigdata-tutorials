{
 "cells": [
  {
   "cell_type": "markdown",
   "metadata": {
    "nbgrader": {
     "grade": false,
     "grade_id": "cell-2ea85b9a63c320bb",
     "locked": true,
     "schema_version": 3,
     "solution": false
    }
   },
   "source": [
    "# Tutorial 2: RDB"
   ]
  },
  {
   "cell_type": "markdown",
   "metadata": {
    "nbgrader": {
     "grade": false,
     "grade_id": "cell-31e46cb3fc6bb83d",
     "locked": true,
     "schema_version": 3,
     "solution": false
    }
   },
   "source": [
    "**The goal of this tutorial is to implement 5 relation algebra operators and create 5 queries with them.**\n",
    "\n",
    "The database is stored as a pickle file, a serialization protocol for Python data structures:\n",
    "\n",
    "You can find the structure of the database in the example section below.\n",
    "\n",
    "https://docs.python.org/3/library/pickle.html#examples\n",
    "\n",
    "These are the relation algebra operators:\n",
    "\n",
    "* __Set Union (A ∪ B)__: combine the tuple of both A and B\n",
    "* __Set Difference (A - B)__: keep tuples in A that are not in B\n",
    "* __Set Intersection (A ∩ B)__: find tuples present both in A and B\n",
    "* __Selection (R σ COND)__: filter tuples in R that satisfies COND\n",
    "* __Projection (R π COLS)__: select attributes in R mentioned in COLS\n",
    "* __Join/Product (R X S)__: generate all combinations of R and S tuples\n",
    "\n",
    "You can think of relational algebra as pseudo-code for database queries.\n",
    "\n",
    "These operators are used in every database systems, under different names.\n",
    "\n",
    "I encourage you to consider the complexity of each operator to find optimal queries !\n",
    "\n",
    "__Grade Scale__: 20 points\n",
    "* correct operator/query: 2 point\n",
    "* incorrect operator/query: 0 point\n",
    "\n",
    "__Further documentations__:\n",
    "\n",
    "* https://www.imdb.com/interfaces/\n",
    "* https://learnxinyminutes.com/docs/python/\n",
    "* https://en.wikipedia.org/wiki/Relational_algebra\n",
    "* https://docs.python.org/3/tutorial/datastructures.html\n",
    "* https://www.dataquest.io/blog/jupyter-notebook-tutorial/"
   ]
  },
  {
   "cell_type": "markdown",
   "metadata": {
    "nbgrader": {
     "grade": false,
     "grade_id": "cell-14cc46e630748a2c",
     "locked": true,
     "schema_version": 3,
     "solution": false
    }
   },
   "source": [
    "# Core"
   ]
  },
  {
   "cell_type": "code",
   "execution_count": 1,
   "metadata": {
    "nbgrader": {
     "grade": false,
     "grade_id": "cell-db847ba62b9604a3",
     "locked": true,
     "schema_version": 3,
     "solution": false
    }
   },
   "outputs": [],
   "source": [
    "# import pickle from standard library\n",
    "import pickle\n",
    "\n",
    "# load the database as a pickle file\n",
    "with open('imdb.pickle', 'rb') as r:\n",
    "    DB = pickle.load(r)\n",
    "    \n",
    "# limit the amount of results to 20\n",
    "def limit(q):  # decorator\n",
    "    def f(*args, **kwargs):\n",
    "        return q(*args, **kwargs)[:20]\n",
    "    return f"
   ]
  },
  {
   "cell_type": "markdown",
   "metadata": {
    "nbgrader": {
     "grade": false,
     "grade_id": "cell-978a2d297a936d81",
     "locked": true,
     "schema_version": 3,
     "solution": false
    }
   },
   "source": [
    "# Examples"
   ]
  },
  {
   "cell_type": "code",
   "execution_count": 2,
   "metadata": {
    "nbgrader": {
     "grade": false,
     "grade_id": "cell-4848e23d60405c9a",
     "locked": true,
     "schema_version": 3,
     "solution": false
    }
   },
   "outputs": [
    {
     "data": {
      "text/plain": [
       "['names', 'basics', 'akas', 'ratings', 'writers', 'directors', 'principals']"
      ]
     },
     "execution_count": 2,
     "metadata": {},
     "output_type": "execute_result"
    }
   ],
   "source": [
    "# the database is a dictionnary\n",
    "# print the names of the tables\n",
    "list(DB.keys())"
   ]
  },
  {
   "cell_type": "code",
   "execution_count": 3,
   "metadata": {
    "nbgrader": {
     "grade": false,
     "grade_id": "cell-bcd524f2dbc79c65",
     "locked": true,
     "schema_version": 3,
     "solution": false
    }
   },
   "outputs": [
    {
     "data": {
      "text/plain": [
       "[('nm0000007',\n",
       "  'Humphrey Bogart',\n",
       "  1899,\n",
       "  1957,\n",
       "  'actor,soundtrack,producer',\n",
       "  'tt0037382,tt0033870,tt0034583,tt0043265'),\n",
       " ('nm0000026',\n",
       "  'Cary Grant',\n",
       "  1904,\n",
       "  1986,\n",
       "  'actor,soundtrack,producer',\n",
       "  'tt0053125,tt0036613,tt0048728,tt0056923'),\n",
       " ('nm0000033',\n",
       "  'Alfred Hitchcock',\n",
       "  1899,\n",
       "  1980,\n",
       "  'actor,director,producer',\n",
       "  'tt0054215,tt0053125,tt0052357,tt0030341')]"
      ]
     },
     "execution_count": 3,
     "metadata": {},
     "output_type": "execute_result"
    }
   ],
   "source": [
    "# a table is a list of tuples\n",
    "# retrieve the first 3 tuples\n",
    "DB[\"names\"][0:3]"
   ]
  },
  {
   "cell_type": "code",
   "execution_count": 4,
   "metadata": {
    "nbgrader": {
     "grade": false,
     "grade_id": "cell-abebe0ac7484d5d7",
     "locked": true,
     "schema_version": 3,
     "solution": false
    }
   },
   "outputs": [
    {
     "name": "stdout",
     "output_type": "stream",
     "text": [
      "names\n",
      "('nm0000007', 'Humphrey Bogart', 1899, 1957, 'actor,soundtrack,producer', 'tt0037382,tt0033870,tt0034583,tt0043265')\n",
      "basics\n",
      "('tt0100275', 'movie', 'The Wandering Soap Opera', 'La Telenovela Errante', 0, 2017, None, 80, 'Comedy,Drama,Fantasy')\n",
      "akas\n",
      "('tt0100275', 1, 'La Telenovela Errante', None, None, 'original', None, 1)\n",
      "ratings\n",
      "('tt0100275', 6.8, 92)\n",
      "writers\n",
      "('tt0100275', 'nm0749914')\n",
      "directors\n",
      "('tt0100275', 'nm0749914')\n",
      "principals\n",
      "('tt0100275', 1, 'nm0016013', 'actor', None, None)\n"
     ]
    }
   ],
   "source": [
    "# print the first table row\n",
    "for name, table in DB.items():\n",
    "    for row in table:\n",
    "        print(name)\n",
    "        print(row)\n",
    "        break"
   ]
  },
  {
   "cell_type": "code",
   "execution_count": 5,
   "metadata": {
    "nbgrader": {
     "grade": false,
     "grade_id": "cell-5d6390117dcfe789",
     "locked": true,
     "schema_version": 3,
     "solution": false
    }
   },
   "outputs": [
    {
     "data": {
      "text/plain": [
       "[1, 2, 3, 4, 5, 6]"
      ]
     },
     "execution_count": 5,
     "metadata": {},
     "output_type": "execute_result"
    }
   ],
   "source": [
    "# there is one important thing you should know about Python values !\n",
    "# most data structures are mutable, and can be modified in your code\n",
    "\n",
    "a = [1, 2, 3]\n",
    "a.extend([4, 5, 6])\n",
    "\n",
    "a"
   ]
  },
  {
   "cell_type": "code",
   "execution_count": 6,
   "metadata": {
    "nbgrader": {
     "grade": false,
     "grade_id": "cell-327ef4f2f397f4cb",
     "locked": true,
     "schema_version": 3,
     "solution": false
    }
   },
   "outputs": [
    {
     "data": {
      "text/plain": [
       "([1, 2, 3], [1, 2, 3, 4, 5, 6], [4, 5, 6])"
      ]
     },
     "execution_count": 6,
     "metadata": {},
     "output_type": "execute_result"
    }
   ],
   "source": [
    "# you can prevent these side effects by creating:\n",
    "# - an empty structure\n",
    "# - a copy\n",
    "\n",
    "a = [1, 2, 3]\n",
    "b = a.copy()\n",
    "c = list()\n",
    "\n",
    "b.extend([4, 5, 6])\n",
    "c.extend([4, 5, 6])\n",
    "\n",
    "a, b, c"
   ]
  },
  {
   "cell_type": "code",
   "execution_count": 7,
   "metadata": {
    "nbgrader": {
     "grade": false,
     "grade_id": "cell-90e676d865aa672c",
     "locked": true,
     "schema_version": 3,
     "solution": false
    }
   },
   "outputs": [
    {
     "data": {
      "text/plain": [
       "([1, 2, 3], [1, 2, 3, 4, 5, 6])"
      ]
     },
     "execution_count": 7,
     "metadata": {},
     "output_type": "execute_result"
    }
   ],
   "source": [
    "# you can also use immutable operators to create new object\n",
    "\n",
    "a = [1, 2, 3]\n",
    "b = a + [4, 5, 6]\n",
    "\n",
    "a, b"
   ]
  },
  {
   "cell_type": "markdown",
   "metadata": {
    "nbgrader": {
     "grade": false,
     "grade_id": "cell-5ea24f368c8adfac",
     "locked": true,
     "schema_version": 3,
     "solution": false
    }
   },
   "source": [
    "# OPERATORS"
   ]
  },
  {
   "cell_type": "code",
   "execution_count": 8,
   "metadata": {
    "nbgrader": {
     "grade": false,
     "grade_id": "cell-8f89ea42f00fa268",
     "locked": true,
     "schema_version": 3,
     "solution": false
    }
   },
   "outputs": [],
   "source": [
    "# this operator is provided as an example\n",
    "\n",
    "def union(r, s):\n",
    "    \"\"\"Concatenate tuples from relation r and s.\"\"\"\n",
    "    t = list()\n",
    "    t.extend(r)\n",
    "    t.extend(s)\n",
    "    return t"
   ]
  },
  {
   "cell_type": "code",
   "execution_count": 9,
   "metadata": {
    "nbgrader": {
     "grade": false,
     "grade_id": "cell-c6126d08c0480745",
     "locked": true,
     "schema_version": 3,
     "solution": false
    }
   },
   "outputs": [],
   "source": [
    "assert union([], []) == []\n",
    "assert union([(1, 2, 3)], []) == [(1, 2, 3)]\n",
    "assert union([], [(1, 2, 3)]) == [(1, 2, 3)]\n",
    "assert union([(1, 2, 3)], [(4, 5, 6)]) == [(1, 2, 3), (4, 5, 6)]\n",
    "assert union([(4, 5, 6)], [(1, 2, 3)]) == [(4, 5, 6), (1, 2, 3)]\n",
    "assert union([(1, 2, 3), (4, 5, 6)], [(7, 8, 9)]) == [(1, 2, 3), (4, 5, 6), (7, 8, 9)]\n",
    "assert union([(1, 2, 3)], [(4, 5, 6), (7, 8, 9)]) == [(1, 2, 3), (4, 5, 6), (7, 8, 9)]"
   ]
  },
  {
   "cell_type": "code",
   "execution_count": 10,
   "metadata": {
    "nbgrader": {
     "grade": false,
     "grade_id": "cell-80e16a9e439489ca",
     "locked": false,
     "schema_version": 3,
     "solution": true
    }
   },
   "outputs": [],
   "source": [
    "def difference(r, s):\n",
    "    \"\"\"Keep the tuple of r that are not in s.\"\"\"\n",
    "    t = list()\n",
    "    ### BEGIN SOLUTION\n",
    "    for x in r:\n",
    "        if x not in s:\n",
    "            t.append(x)\n",
    "    ### END SOLUTION\n",
    "    return t"
   ]
  },
  {
   "cell_type": "code",
   "execution_count": 11,
   "metadata": {
    "nbgrader": {
     "grade": true,
     "grade_id": "cell-f03c5807a027b112",
     "locked": true,
     "points": 2,
     "schema_version": 3,
     "solution": false
    }
   },
   "outputs": [],
   "source": [
    "assert difference([], []) == []\n",
    "assert difference([(1, 2, 3)], []) == [(1, 2, 3)]\n",
    "assert difference([], [(1, 2, 3)]) == []\n",
    "assert difference([(1, 2, 3)], [(1, 2, 3)]) == []\n",
    "assert difference([(1, 2, 3)], [(4, 5, 6)]) == [(1, 2, 3)]\n",
    "assert difference([(1, 2, 3)], [(1, 2, 3), (4, 5, 6)]) == []\n",
    "assert difference([(1, 2, 3)], [(4, 5, 6), (7, 8, 8)]) == [(1, 2, 3)]\n",
    "assert difference([(1, 2, 3), (4, 5, 6)], [(1, 2, 3)]) == [(4, 5, 6)]\n",
    "assert difference([(1, 2, 3), (4, 5, 6)], [(4, 5, 6)]) == [(1, 2, 3)]\n",
    "assert difference([(1, 2, 3), (4, 5, 6)], [(7, 8, 9)]) == [(1, 2, 3), (4, 5, 6)]\n",
    "### BEGIN HIDDEN TESTS\n",
    "assert difference([1, 2, 3, 4, 5], [1, 2, 3]) == [4, 5]\n",
    "assert difference([1, 2, 3, 4, 5], [3, 4, 5]) == [1, 2]\n",
    "assert difference([1, 2, 3, 4, 5], [1, 2, 3, 4, 5]) == []\n",
    "assert difference([1, 2, 3, 4, 5], [6, 7, 8, 9, 0]) == [1, 2, 3, 4, 5]\n",
    "assert difference([5, 4, 3, 2, 1], [2, 4, 6, 8, 0]) == [5, 3, 1]\n",
    "assert difference([2, 4, 6, 8, 0], [5, 4, 3, 2, 1]) == [6, 8, 0]\n",
    "### END HIDDEN TESTS"
   ]
  },
  {
   "cell_type": "code",
   "execution_count": 12,
   "metadata": {
    "nbgrader": {
     "grade": false,
     "grade_id": "cell-a66a7ba43d252280",
     "locked": false,
     "schema_version": 3,
     "solution": true
    }
   },
   "outputs": [],
   "source": [
    "def intersection(r, s):\n",
    "    \"\"\"Keep tuples of r that are also in s.\"\"\"\n",
    "    t = list()\n",
    "    ### BEGIN SOLUTION\n",
    "    for x in r:\n",
    "        if x in s:\n",
    "            t.append(x)\n",
    "    ### END SOLUTION\n",
    "    return t"
   ]
  },
  {
   "cell_type": "code",
   "execution_count": 13,
   "metadata": {
    "nbgrader": {
     "grade": true,
     "grade_id": "cell-a8b09737ac98c2df",
     "locked": true,
     "points": 2,
     "schema_version": 3,
     "solution": false
    }
   },
   "outputs": [],
   "source": [
    "assert intersection([], []) == []\n",
    "assert intersection([(1, 2, 3)], []) == []\n",
    "assert intersection([], [(1, 2, 3)]) == []\n",
    "assert intersection([(1, 2, 3)], [(4, 5, 6)]) == []\n",
    "assert intersection([(4, 5, 6)], [(1, 2, 3)]) == []\n",
    "assert intersection([(1, 2, 3)], [(1, 2, 3)]) == [(1, 2, 3)]\n",
    "assert intersection([(4, 5, 6)], [(4, 5, 6)]) == [(4, 5, 6)]\n",
    "assert intersection([(1, 2, 3), (4, 5, 6)], [(7, 8, 9)]) == []\n",
    "assert intersection([(1, 2, 3), (4, 5, 6)], [(1, 2, 3)]) == [(1, 2, 3)]\n",
    "assert intersection([(1, 2, 3), (4, 5, 6)], [(4, 5, 6)]) == [(4, 5, 6)]\n",
    "### BEGIN HIDDEN TESTS\n",
    "assert intersection([1, 2, 3, 4, 5], [6, 7, 8]) == []\n",
    "assert intersection([1, 2, 3, 4, 5], [1, 2, 3]) == [1, 2, 3]\n",
    "assert intersection([1, 2, 3, 4, 5], [3, 4, 5]) == [3, 4, 5]\n",
    "assert intersection([5, 4, 3, 2, 1], [3, 4, 5]) == [5, 4, 3]\n",
    "assert intersection([1, 3, 5, 7, 9], [1, 2, 3, 4, 5]) == [1, 3, 5]\n",
    "assert intersection([1, 2, 3, 4, 5], [1, 3, 5, 7, 9]) == [1, 3, 5]\n",
    "### END HIDDEN TESTS"
   ]
  },
  {
   "cell_type": "code",
   "execution_count": 14,
   "metadata": {
    "nbgrader": {
     "grade": false,
     "grade_id": "cell-c4df43a7b0d7c4e8",
     "locked": false,
     "schema_version": 3,
     "solution": true
    }
   },
   "outputs": [],
   "source": [
    "def selection(r, cond):\n",
    "    \"\"\"Keep tuples that satisfy cond (i.e., when cond is True).\"\"\"\n",
    "    t = list()\n",
    "    ### BEGIN SOLUTION\n",
    "    for x in r:\n",
    "        if cond(x):\n",
    "            t.append(x)\n",
    "    ### END SOLUTION\n",
    "    return t"
   ]
  },
  {
   "cell_type": "code",
   "execution_count": 15,
   "metadata": {
    "nbgrader": {
     "grade": true,
     "grade_id": "cell-988b583e38ada6d8",
     "locked": true,
     "points": 2,
     "schema_version": 3,
     "solution": false
    }
   },
   "outputs": [],
   "source": [
    "assert selection([], lambda x: True) == []\n",
    "assert selection([], lambda x: False) == []\n",
    "assert selection([(1, 2, 3)], lambda x: False) == []\n",
    "assert selection([(4, 5, 6)], lambda x: False) == []\n",
    "assert selection([(1, 2, 3)], lambda x: x[0] == 9) == []\n",
    "assert selection([(1, 2, 3)], lambda x: True) == [(1, 2, 3)]\n",
    "assert selection([(4, 5, 6)], lambda x: True) == [(4, 5, 6)]\n",
    "assert selection([(1, 2, 3)], lambda x: x[0] == 1) == [(1, 2, 3)]\n",
    "assert selection([(1, 2, 3), (4, 5, 6)], lambda x: x[0] == 9) == []\n",
    "assert selection([(1, 2, 3), (4, 5, 6)], lambda x: x[0] == 1) == [(1, 2, 3)]\n",
    "assert selection([(1, 2, 3), (4, 5, 6)], lambda x: x[0] == 4) == [(4, 5, 6)]\n",
    "### BEGIN HIDDEN TESTS\n",
    "assert selection([1, 2, 3, 4, 5], lambda x: x < 0) == []\n",
    "assert selection([1, 2, 3, 4, 5], lambda x: x < 3) == [1, 2]\n",
    "assert selection([1, 2, 3, 4, 5], lambda x: x > 3) == [4, 5]\n",
    "assert selection([5, 4, 3, 2, 1], lambda x: x < 3) == [2, 1]\n",
    "assert selection([5, 4, 3, 2, 1], lambda x: x > 3) == [5, 4]\n",
    "assert selection([1, 2, 3, 4, 5], lambda x: x > 0) == [1, 2, 3, 4, 5]\n",
    "### END HIDDEN TESTS"
   ]
  },
  {
   "cell_type": "code",
   "execution_count": 16,
   "metadata": {
    "nbgrader": {
     "grade": false,
     "grade_id": "cell-08d77510c95184b4",
     "locked": false,
     "schema_version": 3,
     "solution": true
    }
   },
   "outputs": [],
   "source": [
    "def projection(r, cols):\n",
    "    \"\"\"Keep attributes that are in cols for each tuple of r.\"\"\"\n",
    "    t = list()\n",
    "    ### BEGIN SOLUTION\n",
    "    for x in r:\n",
    "        c = list()\n",
    "        for i in cols:\n",
    "            c.append(x[i])\n",
    "        t.append(tuple(c))\n",
    "    ### END SOLUTION\n",
    "    return t"
   ]
  },
  {
   "cell_type": "code",
   "execution_count": 17,
   "metadata": {
    "nbgrader": {
     "grade": true,
     "grade_id": "cell-ca83359ee07e113b",
     "locked": true,
     "points": 2,
     "schema_version": 3,
     "solution": false
    }
   },
   "outputs": [],
   "source": [
    "assert projection([], []) == []\n",
    "assert projection([(4, 5, 6)], []) == [()]\n",
    "assert projection([(4, 5, 6)], [0]) == [(4,)]\n",
    "assert projection([(4, 5, 6)], [1]) == [(5,)]\n",
    "assert projection([(4, 5, 6)], [2]) == [(6,)]\n",
    "assert projection([(4, 5, 6)], [0, 2]) == [(4, 6)]\n",
    "assert projection([(4, 5, 6), (7, 8, 9)], [1]) == [(5,), (8,)]\n",
    "assert projection([(4, 5, 6), (7, 8, 9)], [0, 2]) == [(4, 6), (7, 9)]\n",
    "### BEGIN HIDDEN TESTS\n",
    "assert projection([(1, 2, 3), (4, 5, 6)], []) == [(), ()]\n",
    "assert projection([(1, 2, 3), (4, 5, 6)], [0]) == [(1,), (4,)]\n",
    "assert projection([(1, 2, 3), (4, 5, 6)], [1, 2]) == [(2, 3), (5, 6)]\n",
    "### END HIDDEN TESTS"
   ]
  },
  {
   "cell_type": "code",
   "execution_count": 18,
   "metadata": {
    "nbgrader": {
     "grade": false,
     "grade_id": "cell-82b890bfc576cef7",
     "locked": false,
     "schema_version": 3,
     "solution": true
    }
   },
   "outputs": [],
   "source": [
    "def join(r, s):\n",
    "    \"\"\"Generate all combination of tuples for relation r and s.\"\"\"\n",
    "    t = list()\n",
    "    ### BEGIN SOLUTION\n",
    "    for x in r:\n",
    "        for y in s:\n",
    "            t.append(x + y)\n",
    "    ### END SOLUTION\n",
    "    return t"
   ]
  },
  {
   "cell_type": "code",
   "execution_count": 19,
   "metadata": {
    "nbgrader": {
     "grade": true,
     "grade_id": "cell-5395f5033f5793db",
     "locked": true,
     "points": 2,
     "schema_version": 3,
     "solution": false
    }
   },
   "outputs": [],
   "source": [
    "assert join([], []) == []\n",
    "assert join([(1, 2, 3)], []) == []\n",
    "assert join([], [(1, 2, 3)]) == []\n",
    "assert join([(1, 2, 3)], [(4, 5, 6)]) == [(1, 2, 3, 4, 5, 6)]\n",
    "assert join([(4, 5, 6)], [(1, 2, 3)]) == [(4, 5, 6, 1, 2, 3)]\n",
    "assert join([(1, 2, 3), (4, 5, 6)], [(7, 8, 9)]) == [(1, 2, 3, 7, 8, 9), (4, 5, 6, 7, 8, 9)]\n",
    "assert join([(7, 8, 9)], [(1, 2, 3), (4, 5, 6)]) == [(7, 8, 9, 1, 2, 3), (7, 8, 9, 4, 5, 6)]\n",
    "assert join([(1, 2), (3, 4)], [(5, 6), (7, 9), (9, 0)]) == [(1, 2, 5, 6), (1, 2, 7, 9),\n",
    "                                                            (1, 2, 9, 0), (3, 4, 5, 6),\n",
    "                                                            (3, 4, 7, 9), (3, 4, 9, 0)]\n",
    "### BEGIN HIDDEN TESTS\n",
    "assert join([(1, 3), (5, 7), (9,)], [(0,), (2, 4), (6, 8)]) == [(1, 3, 0), (1, 3, 2, 4),\n",
    "                                                                (1, 3, 6, 8), (5, 7, 0),\n",
    "                                                                (5, 7, 2, 4), (5, 7, 6, 8),\n",
    "                                                                (9, 0), (9, 2, 4), (9, 6, 8)]\n",
    "### END HIDDEN TESTS"
   ]
  },
  {
   "cell_type": "markdown",
   "metadata": {
    "nbgrader": {
     "grade": false,
     "grade_id": "cell-92a9722506903603",
     "locked": true,
     "schema_version": 3,
     "solution": false
    }
   },
   "source": [
    "# QUERIES"
   ]
  },
  {
   "cell_type": "markdown",
   "metadata": {
    "nbgrader": {
     "grade": false,
     "grade_id": "cell-b7861e68171e720e",
     "locked": true,
     "schema_version": 3,
     "solution": false
    }
   },
   "source": [
    "__0. Select the primary title, start year and runtime of movies that are 120 minutes long__\n",
    "  - __hint__: always filter a query with `selection` before applying any other operators"
   ]
  },
  {
   "cell_type": "code",
   "execution_count": 20,
   "metadata": {
    "nbgrader": {
     "grade": false,
     "grade_id": "cell-b4f5ef7f0c377f0d",
     "locked": true,
     "schema_version": 3,
     "solution": false
    }
   },
   "outputs": [
    {
     "name": "stdout",
     "output_type": "stream",
     "text": [
      "CPU times: user 2.33 ms, sys: 0 ns, total: 2.33 ms\n",
      "Wall time: 2.33 ms\n"
     ]
    },
    {
     "data": {
      "text/plain": [
       "[('Justice League', 2017, 120),\n",
       " ('Five Fingers for Marseilles', 2017, 120),\n",
       " ('Long Live the Horror', 2017, 120),\n",
       " ('Wonderkind', 2017, 120),\n",
       " ('Snowflake', 2017, 120),\n",
       " ('The Dinner', 2017, 120),\n",
       " ('Patel Ki Punjabi Shaadi', 2017, 120),\n",
       " ('Beyond the Clouds', 2017, 120),\n",
       " ('Myr vashomu domu!', 2017, 120),\n",
       " ('The Man with the Iron Heart', 2017, 120),\n",
       " ('G: A Dark Tale of Desires', 2017, 120),\n",
       " ('Bank Chor', 2017, 120),\n",
       " ('Vorticale', 2017, 120),\n",
       " ('Love Pret-a-porte', 2017, 120),\n",
       " ('Blood Ties', 2017, 120),\n",
       " ('Mary Shelley', 2017, 120),\n",
       " ('The Space Between Us', 2017, 120),\n",
       " ('Okja', 2017, 120),\n",
       " (\"Fate/Stay Night: Heaven's Feel - I. Presage Flower\", 2017, 120),\n",
       " ('Rough Stuff', 2017, 120)]"
      ]
     },
     "execution_count": 20,
     "metadata": {},
     "output_type": "execute_result"
    }
   ],
   "source": [
    "%%time\n",
    "@limit\n",
    "def Q0():\n",
    "    r1 = selection(DB[\"basics\"], lambda x: x[7] is not None and x[7] == 120)\n",
    "    r2 = projection(r1, [2, 5, 7])\n",
    "    return r2\n",
    "\n",
    "Q0()"
   ]
  },
  {
   "cell_type": "code",
   "execution_count": 21,
   "metadata": {
    "nbgrader": {
     "grade": false,
     "grade_id": "cell-23757a8ece153189",
     "locked": true,
     "schema_version": 3,
     "solution": false
    }
   },
   "outputs": [],
   "source": [
    "assert set(Q0()) == set([\n",
    "    ('Justice League', 2017, 120),\n",
    "    ('Five Fingers for Marseilles', 2017, 120),\n",
    "    ('Long Live the Horror', 2017, 120),\n",
    "    ('Wonderkind', 2017, 120),\n",
    "    ('Snowflake', 2017, 120),\n",
    "    ('The Dinner', 2017, 120),\n",
    "    ('Patel Ki Punjabi Shaadi', 2017, 120),\n",
    "    ('Beyond the Clouds', 2017, 120),\n",
    "    ('Myr vashomu domu!', 2017, 120),\n",
    "    ('The Man with the Iron Heart', 2017, 120),\n",
    "    ('G: A Dark Tale of Desires', 2017, 120),\n",
    "    ('Bank Chor', 2017, 120),\n",
    "    ('Vorticale', 2017, 120),\n",
    "    ('Love Pret-a-porte', 2017, 120),\n",
    "    ('Blood Ties', 2017, 120),\n",
    "    ('Mary Shelley', 2017, 120),\n",
    "    ('The Space Between Us', 2017, 120),\n",
    "    ('Okja', 2017, 120),\n",
    "    (\"Fate/Stay Night: Heaven's Feel - I. Presage Flower\", 2017, 120),\n",
    "    ('Rough Stuff', 2017, 120),\n",
    "])"
   ]
  },
  {
   "cell_type": "markdown",
   "metadata": {
    "nbgrader": {
     "grade": false,
     "grade_id": "cell-07d5474e1271371b",
     "locked": true,
     "schema_version": 3,
     "solution": false
    }
   },
   "source": [
    "__1: Select the name of persons born in 2000 and whose primary profession is 'actresses'__\n",
    "  - __hint__: you can query the 'names' table to retrieve these two information"
   ]
  },
  {
   "cell_type": "code",
   "execution_count": 22,
   "metadata": {
    "nbgrader": {
     "grade": false,
     "grade_id": "cell-473734dbb058859c",
     "locked": false,
     "schema_version": 3,
     "solution": true
    }
   },
   "outputs": [
    {
     "name": "stdout",
     "output_type": "stream",
     "text": [
      "CPU times: user 13 ms, sys: 41 µs, total: 13 ms\n",
      "Wall time: 13 ms\n"
     ]
    },
    {
     "data": {
      "text/plain": [
       "[('Esme Creed-Miles',),\n",
       " ('Cami Ottman',),\n",
       " ('Shelby Lyon',),\n",
       " ('Minami Hamabe',),\n",
       " ('Moka Kamishiraishi',),\n",
       " ('Bente Fokkens',),\n",
       " ('Mima Ito',),\n",
       " ('Na-Na OuYang',),\n",
       " ('Zaira Wasim',),\n",
       " ('Destina Baser',)]"
      ]
     },
     "execution_count": 22,
     "metadata": {},
     "output_type": "execute_result"
    }
   ],
   "source": [
    "%%time\n",
    "@limit\n",
    "def Q1():\n",
    "    ### BEGIN SOLUTION\n",
    "    r1 = selection(DB[\"names\"], lambda x: x[2] is not None and x[2] == 2000\n",
    "                                      and x[4] is not None and x[4] == 'actress')\n",
    "    r2 = projection(r1, [1])\n",
    "    return r2\n",
    "    ### END SOLUTION\n",
    "\n",
    "Q1()"
   ]
  },
  {
   "cell_type": "code",
   "execution_count": 23,
   "metadata": {
    "nbgrader": {
     "grade": true,
     "grade_id": "cell-dab152dc1fee5624",
     "locked": true,
     "points": 2,
     "schema_version": 3,
     "solution": false
    }
   },
   "outputs": [],
   "source": [
    "assert len(Q1()) == 10  # has 10 rows\n",
    "assert all(len(row) == 1 for row in Q1())  # has 1 columns per row (primary name)\n",
    "### BEGIN HIDDEN TESTS\n",
    "assert set(Q1()) == set([\n",
    "    ('Esme Creed-Miles',),\n",
    "    ('Cami Ottman',),\n",
    "    ('Shelby Lyon',),\n",
    "    ('Minami Hamabe',),\n",
    "    ('Moka Kamishiraishi',),\n",
    "    ('Bente Fokkens',),\n",
    "    ('Mima Ito',),\n",
    "    ('Na-Na OuYang',),\n",
    "    ('Zaira Wasim',),\n",
    "    ('Destina Baser',),\n",
    "])\n",
    "### END HIDDEN TESTS"
   ]
  },
  {
   "cell_type": "markdown",
   "metadata": {
    "nbgrader": {
     "grade": false,
     "grade_id": "cell-c12b1a9eaf063f02",
     "locked": true,
     "schema_version": 3,
     "solution": false
    }
   },
   "source": [
    "__2: Select the name, rating and votes of movies whose rating > 9 and number of vote > 1000__\n",
    "  - __hint__: you should join the `ratings` and `basics` relations to associated their information"
   ]
  },
  {
   "cell_type": "code",
   "execution_count": 24,
   "metadata": {
    "nbgrader": {
     "grade": false,
     "grade_id": "cell-1877b3fd18660e79",
     "locked": false,
     "schema_version": 3,
     "solution": true
    }
   },
   "outputs": [
    {
     "name": "stdout",
     "output_type": "stream",
     "text": [
      "CPU times: user 34 ms, sys: 16.3 ms, total: 50.4 ms\n",
      "Wall time: 50.1 ms\n"
     ]
    },
    {
     "data": {
      "text/plain": [
       "[('Hans Zimmer: Live in Prague', 9.1, 1293),\n",
       " ('Aloko Udapadi', 9.6, 6435),\n",
       " ('On vam ne Dimon', 9.2, 2618)]"
      ]
     },
     "execution_count": 24,
     "metadata": {},
     "output_type": "execute_result"
    }
   ],
   "source": [
    "%%time\n",
    "@limit\n",
    "def Q2():\n",
    "    ### BEGIN SOLUTION\n",
    "    r1 = selection(DB['ratings'], lambda x: x[1] > 9 and x[2] > 1000)\n",
    "    r2 = selection(join(r1, DB['basics']), lambda x: x[0] == x[3])\n",
    "    r3 = projection(r2, [5, 1, 2])\n",
    "    return r3\n",
    "    ### END SOLUTION\n",
    "\n",
    "Q2()"
   ]
  },
  {
   "cell_type": "code",
   "execution_count": 25,
   "metadata": {
    "nbgrader": {
     "grade": true,
     "grade_id": "cell-e36b40d053907d08",
     "locked": true,
     "points": 2,
     "schema_version": 3,
     "solution": false
    }
   },
   "outputs": [],
   "source": [
    "assert len(Q2()) == 3  # has 3 rows\n",
    "assert all(len(row) == 3 for row in Q2())  # has 3 column per row (primary title, average rating, number of votes)\n",
    "### BEGIN HIDDEN TESTS\n",
    "assert set(Q2()) == set([\n",
    "    ('Hans Zimmer: Live in Prague', 9.1, 1293),\n",
    "    ('Aloko Udapadi', 9.6, 6435),\n",
    "    ('On vam ne Dimon', 9.2, 2618) ,\n",
    "])\n",
    "### END HIDDEN TESTS"
   ]
  },
  {
   "cell_type": "markdown",
   "metadata": {
    "nbgrader": {
     "grade": false,
     "grade_id": "cell-cb3fb8a4a5faf42a",
     "locked": true,
     "schema_version": 3,
     "solution": false
    }
   },
   "source": [
    "__3: Select the primary name and genre of movies directed by 'Larry Rosen'__\n",
    "  - __hint__: remember to filter tuple before joining relations together !"
   ]
  },
  {
   "cell_type": "code",
   "execution_count": 26,
   "metadata": {
    "nbgrader": {
     "grade": false,
     "grade_id": "cell-71ed082b62c037ff",
     "locked": false,
     "schema_version": 3,
     "solution": true
    }
   },
   "outputs": [
    {
     "name": "stdout",
     "output_type": "stream",
     "text": [
      "CPU times: user 93.7 ms, sys: 24.2 ms, total: 118 ms\n",
      "Wall time: 117 ms\n"
     ]
    },
    {
     "data": {
      "text/plain": [
       "[('After the Outbreak', 'Horror,Sci-Fi'),\n",
       " ('Paranoia Tapes', 'Horror'),\n",
       " ('Surviving the Outbreak', 'Horror,Sci-Fi'),\n",
       " ('The New Roommate', 'Drama,Thriller'),\n",
       " ('Into the Outbreak', 'Horror,Sci-Fi'),\n",
       " ('Death at a Barbecue', 'Horror,Thriller'),\n",
       " ('Second Escape', 'Drama'),\n",
       " ('Something Like Love', 'Drama'),\n",
       " ('Gwendolyn', 'Drama'),\n",
       " ('Revenge is Best Served', 'Horror'),\n",
       " ('The Question', 'Drama,Romance'),\n",
       " ('Death of Love', 'Drama,Romance'),\n",
       " ('Paranoia Films 2: Press Play', 'Horror')]"
      ]
     },
     "execution_count": 26,
     "metadata": {},
     "output_type": "execute_result"
    }
   ],
   "source": [
    "%%time\n",
    "@limit\n",
    "def Q3():\n",
    "    ### BEGIN SOLUTION\n",
    "    r1 = selection(DB['names'], lambda x: x[1] == 'Larry Rosen')\n",
    "    r2 = selection(join(r1, DB['directors']), lambda x: x[0] == x[7])\n",
    "    r3 = selection(join(r2, DB['basics']), lambda x: x[6] == x[8])\n",
    "    r4 = projection(r3, [10, 16])\n",
    "    return r4\n",
    "    ### END SOLUTION\n",
    "\n",
    "Q3()"
   ]
  },
  {
   "cell_type": "code",
   "execution_count": 27,
   "metadata": {
    "nbgrader": {
     "grade": true,
     "grade_id": "cell-4bea5e25f426a53a",
     "locked": true,
     "points": 2,
     "schema_version": 3,
     "solution": false
    }
   },
   "outputs": [],
   "source": [
    "assert len(Q3()) == 13  # has 13 rows\n",
    "assert all(len(row) == 2 for row in Q3())  # has 2 columns per row (primary title, genres)\n",
    "### BEGIN HIDDEN TESTS\n",
    "assert set(Q3()) == set([\n",
    "    ('After the Outbreak', 'Horror,Sci-Fi'),\n",
    "    ('Paranoia Tapes', 'Horror'),\n",
    "    ('Surviving the Outbreak', 'Horror,Sci-Fi'),\n",
    "    ('The New Roommate', 'Drama,Thriller'),\n",
    "    ('Into the Outbreak', 'Horror,Sci-Fi'),\n",
    "    ('Death at a Barbecue', 'Horror,Thriller'),\n",
    "    ('Second Escape', 'Drama'),\n",
    "    ('Something Like Love', 'Drama'),\n",
    "    ('Gwendolyn', 'Drama'),\n",
    "    ('Revenge is Best Served', 'Horror'),\n",
    "    ('The Question', 'Drama,Romance'),\n",
    "    ('Death of Love', 'Drama,Romance'),\n",
    "    ('Paranoia Films 2: Press Play', 'Horror')\n",
    "])\n",
    "### END HIDDEN TESTS"
   ]
  },
  {
   "cell_type": "markdown",
   "metadata": {
    "nbgrader": {
     "grade": false,
     "grade_id": "cell-29ff980b83942208",
     "locked": true,
     "schema_version": 3,
     "solution": false
    }
   },
   "source": [
    "__4: Select the translated title and region of the movie: 'Minecraft the Christmas Movie'__\n",
    "  - __hint__: you can find these information in the `akas` table\n",
    "  - __note__: the region field has values such as 'US', 'DE', 'GR' ..."
   ]
  },
  {
   "cell_type": "code",
   "execution_count": 28,
   "metadata": {
    "nbgrader": {
     "grade": false,
     "grade_id": "cell-1ff71a1dcc3378bf",
     "locked": false,
     "schema_version": 3,
     "solution": true
    }
   },
   "outputs": [
    {
     "name": "stdout",
     "output_type": "stream",
     "text": [
      "CPU times: user 14.3 ms, sys: 4.38 ms, total: 18.7 ms\n",
      "Wall time: 18.6 ms\n"
     ]
    },
    {
     "data": {
      "text/plain": [
       "[('Minecraft la película de navidad', 'ES'),\n",
       " ('Minecraft the Christmas Movie', 'US'),\n",
       " (\"Minecraft Rozhdestvenskiy fil'm\", 'RU'),\n",
       " ('Minecraft the Christmas Movie', None),\n",
       " ('Mainkurafutokurisumasumubi', 'JP'),\n",
       " ('Minecraft Filmul de Craciun', 'RO'),\n",
       " ('Minecraft the movie', 'US'),\n",
       " ('Minecraft Le film de Noël', 'CA'),\n",
       " ('Minecraft Der Weihnachtsfilm', 'DE'),\n",
       " ('Minecraft I tainía ton Christougénnon', 'GR')]"
      ]
     },
     "execution_count": 28,
     "metadata": {},
     "output_type": "execute_result"
    }
   ],
   "source": [
    "%%time\n",
    "@limit\n",
    "def Q4():\n",
    "    ### BEGIN SOLUTION\n",
    "    r1 = selection(DB['basics'], lambda x: x[2] == 'Minecraft the Christmas Movie')\n",
    "    r2 = selection(join(r1, DB['akas']), lambda x: x[0] == x[9])\n",
    "    r3 = projection(r2, [11, 12])\n",
    "    return r3\n",
    "    ### END SOLUTION\n",
    "\n",
    "Q4()"
   ]
  },
  {
   "cell_type": "code",
   "execution_count": 29,
   "metadata": {
    "nbgrader": {
     "grade": true,
     "grade_id": "cell-61f0b5a2b0edf17d",
     "locked": true,
     "points": 2,
     "schema_version": 3,
     "solution": false
    }
   },
   "outputs": [],
   "source": [
    "assert len(Q4()) == 10  # has 10 rows\n",
    "assert all(len(row) for row in Q4())  # has 2 rows (title, language)\n",
    "### BEGIN HIDDEN TESTS\n",
    "assert set(Q4()) == set([\n",
    "    ('Minecraft la película de navidad', 'ES'),\n",
    "    ('Minecraft the Christmas Movie', 'US'),\n",
    "    (\"Minecraft Rozhdestvenskiy fil'm\", 'RU'),\n",
    "    ('Minecraft the Christmas Movie', None),\n",
    "    ('Mainkurafutokurisumasumubi', 'JP'),\n",
    "    ('Minecraft Filmul de Craciun', 'RO'),\n",
    "    ('Minecraft the movie', 'US'),\n",
    "    ('Minecraft Le film de Noël', 'CA'),\n",
    "    ('Minecraft Der Weihnachtsfilm', 'DE'),\n",
    "    ('Minecraft I tainía ton Christougénnon', 'GR')\n",
    "])\n",
    "### END HIDDEN TESTS"
   ]
  },
  {
   "cell_type": "markdown",
   "metadata": {
    "nbgrader": {
     "grade": false,
     "grade_id": "cell-6b6338b15df7a206",
     "locked": true,
     "schema_version": 3,
     "solution": false
    }
   },
   "source": [
    "__5: Select the primary title of movies with a rating > 9.5 but no translations (not in 'akas')__\n",
    "  - __hint__: this is a job for set operators !"
   ]
  },
  {
   "cell_type": "code",
   "execution_count": 30,
   "metadata": {
    "nbgrader": {
     "grade": false,
     "grade_id": "cell-193f9d1070c87e8a",
     "locked": false,
     "schema_version": 3,
     "solution": true
    }
   },
   "outputs": [
    {
     "name": "stdout",
     "output_type": "stream",
     "text": [
      "CPU times: user 54.1 ms, sys: 7.75 ms, total: 61.8 ms\n",
      "Wall time: 60.8 ms\n"
     ]
    },
    {
     "data": {
      "text/plain": [
       "[('Re-action',),\n",
       " ('Trobocop: H synomwsia tou petradiou',),\n",
       " ('Ego-Sum',),\n",
       " ('Never-Ending Road',),\n",
       " ('Gangter in Morteni',)]"
      ]
     },
     "execution_count": 30,
     "metadata": {},
     "output_type": "execute_result"
    }
   ],
   "source": [
    "%%time\n",
    "@limit\n",
    "def Q5():\n",
    "    ### BEGIN SOLUTION\n",
    "    r1 = projection(selection(DB['ratings'], lambda x: x[1] > 9.5), [0])\n",
    "    r2 = projection(DB['akas'], [0])\n",
    "    r3 = difference(r1, r2)\n",
    "    r4 = selection(join(r3, DB['basics']), lambda x: x[0] == x[1])\n",
    "    r5 = projection(r4, [3])\n",
    "    return r5\n",
    "    ### END SOLUTION\n",
    "\n",
    "Q5()"
   ]
  },
  {
   "cell_type": "code",
   "execution_count": 31,
   "metadata": {
    "nbgrader": {
     "grade": true,
     "grade_id": "cell-79928838dd6c2845",
     "locked": true,
     "points": 2,
     "schema_version": 3,
     "solution": false
    }
   },
   "outputs": [],
   "source": [
    "assert len(Q5()) == 5\n",
    "assert all(len(row) == 1 for row in Q5())  # has 1 columns per row (primary title)\n",
    "### BEGIN HIDDEN TESTS\n",
    "assert set(Q5()) == set([\n",
    "    ('Re-action',),\n",
    "    ('Trobocop: H synomwsia tou petradiou',),\n",
    "    ('Ego-Sum',),\n",
    "    ('Never-Ending Road',),\n",
    "    ('Gangter in Morteni',)\n",
    "])\n",
    "### END HIDDEN TESTS"
   ]
  }
 ],
 "metadata": {
  "celltoolbar": "Create Assignment",
  "hide_input": false,
  "kernelspec": {
   "display_name": "Python 3",
   "language": "python",
   "name": "python3"
  },
  "language_info": {
   "codemirror_mode": {
    "name": "ipython",
    "version": 3
   },
   "file_extension": ".py",
   "mimetype": "text/x-python",
   "name": "python",
   "nbconvert_exporter": "python",
   "pygments_lexer": "ipython3",
   "version": "3.7.3"
  }
 },
 "nbformat": 4,
 "nbformat_minor": 4
}
