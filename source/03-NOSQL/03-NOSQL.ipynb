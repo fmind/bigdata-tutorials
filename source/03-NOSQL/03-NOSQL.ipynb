{
 "cells": [
  {
   "cell_type": "markdown",
   "metadata": {
    "nbgrader": {
     "grade": false,
     "grade_id": "cell-6998d2ce1af98da0",
     "locked": true,
     "schema_version": 3,
     "solution": false
    }
   },
   "source": [
    "# Tutorial 3: NoSQL"
   ]
  },
  {
   "cell_type": "markdown",
   "metadata": {
    "nbgrader": {
     "grade": false,
     "grade_id": "cell-f5e14f71b221783f",
     "locked": true,
     "schema_version": 3,
     "solution": false
    }
   },
   "source": [
    "__The goal of this assignment is to create 10 \"queries\" based on 2 NoSQL databases.__\n",
    "\n",
    "I put queries in quotes, as these databases do not provide a declarative query language such as SQL.\n",
    "\n",
    "Instead, you must rely on the database API to extract information and combine the results with some Python code.\n",
    "\n",
    "During this tutorial, I encourage you to consider the pros and cons of each databases compared to relational databases.\n",
    "\n",
    "__The first database: imdb_basics.shelve contains the movies records of IMDB (basics)__.\n",
    "\n",
    "This database is stored using `shelve`, a module of Python standard library.\n",
    "\n",
    "`shelve` is a simple Key-Value store that acts as a persistent dictionary.\n",
    "\n",
    "This is the same model as:\n",
    "- Redis\n",
    "- Memcached\n",
    "- Google LevelDB\n",
    "- Amazon DynamoDB\n",
    "- Facebook RocksDB\n",
    "\n",
    "__The second database: (imdb.json) contains the person records of IMDB (names)__.\n",
    "\n",
    "This database is stored using `tinymongo`, a drop in replacement for MongoDB.\n",
    "\n",
    "`tinymongo` is a Document store that provides query methods on JSON docs.\n",
    "\n",
    "This is the same model as:\n",
    "- MongoDB\n",
    "- CouchDB\n",
    "- ArangoDB\n",
    "- RethinkDB\n",
    "- ElasticSearch\n",
    "\n",
    "__These two data models are [the most popular ones](https://db-engines.com/en/ranking) and they are also used to create more [advanced data model](https://github.com/datathings/greycat/tree/master/plugins)__.\n",
    "\n",
    "__Grade scale__: 20 points\n",
    "- correct query: 2 point\n",
    "- incorrect query: 0 points\n",
    "\n",
    "__Further documentations__:\n",
    "* https://www.imdb.com/interfaces/\n",
    "* https://learnxinyminutes.com/docs/python/\n",
    "* https://github.com/schapman1974/tinymongo/\n",
    "* https://docs.python.org/3.6/library/shelve.html"
   ]
  },
  {
   "cell_type": "markdown",
   "metadata": {
    "nbgrader": {
     "grade": false,
     "grade_id": "cell-7a592d1202be30f1",
     "locked": true,
     "schema_version": 3,
     "solution": false
    }
   },
   "source": [
    "# Core"
   ]
  },
  {
   "cell_type": "code",
   "execution_count": 29,
   "metadata": {
    "nbgrader": {
     "grade": false,
     "grade_id": "cell-be7cbfcf3eaa1a0f",
     "locked": true,
     "schema_version": 3,
     "solution": false
    }
   },
   "outputs": [],
   "source": [
    "# import shelve from standard library\n",
    "import shelve\n",
    "\n",
    "# open a connection to shelve database\n",
    "basics = shelve.open('imdb_basics.shelve', 'r')"
   ]
  },
  {
   "cell_type": "code",
   "execution_count": 30,
   "metadata": {
    "nbgrader": {
     "grade": false,
     "grade_id": "cell-bf05b5a0a7054ebc",
     "locked": true,
     "schema_version": 3,
     "solution": false
    }
   },
   "outputs": [],
   "source": [
    "# import shelve from external dependency\n",
    "from tinymongo import TinyMongoClient\n",
    "\n",
    "# open a connection to tinymongo database\n",
    "names = TinyMongoClient('.').imdb.names"
   ]
  },
  {
   "cell_type": "markdown",
   "metadata": {
    "nbgrader": {
     "grade": false,
     "grade_id": "cell-20faa94a536d9206",
     "locked": true,
     "schema_version": 3,
     "solution": false
    }
   },
   "source": [
    "# Examples"
   ]
  },
  {
   "cell_type": "code",
   "execution_count": 31,
   "metadata": {
    "nbgrader": {
     "grade": false,
     "grade_id": "cell-e42ea62d5a1c16d7",
     "locked": true,
     "schema_version": 3,
     "solution": false
    }
   },
   "outputs": [
    {
     "data": {
      "text/plain": [
       "['tt0100275',\n",
       " 'tt0112502',\n",
       " 'tt0137204',\n",
       " 'tt0331314',\n",
       " 'tt0339736',\n",
       " 'tt0366415',\n",
       " 'tt0368133',\n",
       " 'tt0451201',\n",
       " 'tt0451279',\n",
       " 'tt0460890',\n",
       " 'tt0491175',\n",
       " 'tt0491203',\n",
       " 'tt0493405',\n",
       " 'tt0498381',\n",
       " 'tt0835802',\n",
       " 'tt0874268',\n",
       " 'tt0937225',\n",
       " 'tt0974015',\n",
       " 'tt1020581',\n",
       " 'tt1024855']"
      ]
     },
     "execution_count": 31,
     "metadata": {},
     "output_type": "execute_result"
    }
   ],
   "source": [
    "# get the first 20 keys from basics collection\n",
    "list(basics.keys())[:20]"
   ]
  },
  {
   "cell_type": "code",
   "execution_count": 32,
   "metadata": {
    "nbgrader": {
     "grade": false,
     "grade_id": "cell-cecffdb62e7aebfe",
     "locked": true,
     "schema_version": 3,
     "solution": false
    }
   },
   "outputs": [
    {
     "data": {
      "text/plain": [
       "{'_id': 'tt0100275',\n",
       " 'titleType': 'movie',\n",
       " 'primaryTitle': 'The Wandering Soap Opera',\n",
       " 'originalTitle': 'La Telenovela Errante',\n",
       " 'isAdult': 0,\n",
       " 'startYear': 2017,\n",
       " 'endYear': None,\n",
       " 'runtimeMinutes': 80,\n",
       " 'genres': ['Comedy', 'Drama', 'Fantasy']}"
      ]
     },
     "execution_count": 32,
     "metadata": {},
     "output_type": "execute_result"
    }
   ],
   "source": [
    "# get the first item from the basics collection\n",
    "basics['tt0100275']"
   ]
  },
  {
   "cell_type": "code",
   "execution_count": 33,
   "metadata": {
    "nbgrader": {
     "grade": false,
     "grade_id": "cell-e1f3151cb0be6e26",
     "locked": true,
     "schema_version": 3,
     "solution": false
    }
   },
   "outputs": [
    {
     "data": {
      "text/plain": [
       "{'_id': 'nm7691973',\n",
       " 'primaryName': 'Baste Granfon',\n",
       " 'birthYear': 2012,\n",
       " 'deathYear': None,\n",
       " 'knownForTitles': ['tt7736492', 'tt5577086', 'tt6766834', 'tt8207358'],\n",
       " 'primaryProfession': ['actor']}"
      ]
     },
     "execution_count": 33,
     "metadata": {},
     "output_type": "execute_result"
    }
   ],
   "source": [
    "# get the first item from the names collection\n",
    "names.find_one()"
   ]
  },
  {
   "cell_type": "markdown",
   "metadata": {
    "nbgrader": {
     "grade": false,
     "grade_id": "cell-a0a007dafd42dbea",
     "locked": true,
     "schema_version": 3,
     "solution": false
    }
   },
   "source": [
    "# Queries"
   ]
  },
  {
   "cell_type": "markdown",
   "metadata": {
    "collapsed": true,
    "nbgrader": {
     "grade": false,
     "grade_id": "cell-d1b0224c8f860e4a",
     "locked": true,
     "schema_version": 3,
     "solution": false
    }
   },
   "source": [
    "__1. How many movies are in the `basics` collection ?__\n",
    "- _hint_: you don't have to use a loop to answer this query\n",
    "- _return_: Count (where Count = int)"
   ]
  },
  {
   "cell_type": "code",
   "execution_count": 34,
   "metadata": {
    "nbgrader": {
     "grade": false,
     "grade_id": "cell-ed73e2be3e703d89",
     "locked": false,
     "schema_version": 3,
     "solution": true
    }
   },
   "outputs": [
    {
     "data": {
      "text/plain": [
       "18199"
      ]
     },
     "execution_count": 34,
     "metadata": {},
     "output_type": "execute_result"
    }
   ],
   "source": [
    "def Q1():\n",
    "    ### BEGIN SOLUTION\n",
    "    return len(basics.keys())\n",
    "    ### END SOLUTION\n",
    "\n",
    "Q1()"
   ]
  },
  {
   "cell_type": "code",
   "execution_count": 35,
   "metadata": {
    "nbgrader": {
     "grade": true,
     "grade_id": "cell-610479179ac3aa45",
     "locked": true,
     "points": 2,
     "schema_version": 3,
     "solution": false
    }
   },
   "outputs": [],
   "source": [
    "assert isinstance(Q1(), int)\n",
    "### BEGIN HIDDEN TESTS\n",
    "assert Q1() == 18199\n",
    "### END HIDDEN TESTS"
   ]
  },
  {
   "cell_type": "markdown",
   "metadata": {
    "collapsed": true,
    "nbgrader": {
     "grade": false,
     "grade_id": "cell-405c14a89a7385d9",
     "locked": true,
     "schema_version": 3,
     "solution": false
    }
   },
   "source": [
    "__2. Select the record associated to the movie whose primaryTitle is 'Blade Runner 2049'__\n",
    "* _hints_: you have to use method the database provides\n",
    "* _return_: Record (where Record = Dict[str, Any])"
   ]
  },
  {
   "cell_type": "code",
   "execution_count": 36,
   "metadata": {
    "nbgrader": {
     "grade": false,
     "grade_id": "cell-e58d8a8565370bfa",
     "locked": false,
     "schema_version": 3,
     "solution": true
    }
   },
   "outputs": [
    {
     "data": {
      "text/plain": [
       "{'_id': 'tt1856101',\n",
       " 'titleType': 'movie',\n",
       " 'primaryTitle': 'Blade Runner 2049',\n",
       " 'originalTitle': 'Blade Runner 2049',\n",
       " 'isAdult': 0,\n",
       " 'startYear': 2017,\n",
       " 'endYear': None,\n",
       " 'runtimeMinutes': 164,\n",
       " 'genres': ['Drama', 'Mystery', 'Sci-Fi']}"
      ]
     },
     "execution_count": 36,
     "metadata": {},
     "output_type": "execute_result"
    }
   ],
   "source": [
    "def Q2():\n",
    "    ### BEGIN SOLUTION\n",
    "    for v in basics.values():\n",
    "        if v['primaryTitle'] == 'Blade Runner 2049':\n",
    "            return v\n",
    "    ### END SOLUTION\n",
    "\n",
    "Q2()"
   ]
  },
  {
   "cell_type": "code",
   "execution_count": 37,
   "metadata": {
    "nbgrader": {
     "grade": true,
     "grade_id": "cell-b8841a1fe6ff032f",
     "locked": true,
     "points": 2,
     "schema_version": 3,
     "solution": false
    }
   },
   "outputs": [],
   "source": [
    "assert isinstance(Q2(), dict)\n",
    "assert Q2()['primaryTitle'] == 'Blade Runner 2049'\n",
    "### BEGIN HIDDEN TESTS\n",
    "assert Q2() == {\n",
    "    '_id': 'tt1856101',\n",
    "    'titleType': 'movie',\n",
    "    'primaryTitle': 'Blade Runner 2049',\n",
    "    'originalTitle': 'Blade Runner 2049',\n",
    "    'isAdult': 0,\n",
    "    'startYear': 2017,\n",
    "    'endYear': None,\n",
    "    'runtimeMinutes': 164,\n",
    "    'genres': ['Drama', 'Mystery', 'Sci-Fi'],\n",
    "}\n",
    "### END HIDDEN TESTS"
   ]
  },
  {
   "cell_type": "markdown",
   "metadata": {
    "collapsed": true,
    "nbgrader": {
     "grade": false,
     "grade_id": "cell-22f2f4f7e208f548",
     "locked": true,
     "schema_version": 3,
     "solution": false
    }
   },
   "source": [
    "__3. Select the primary title and runtime of every movies longer than 300 minutes (excluded)__\n",
    "* _hint_: you have to construct your own return value\n",
    "* _return_: List[Tuple[primaryTitle, runtimeMinutes]] (where primaryTitle = str, runtimeMinutes=int)"
   ]
  },
  {
   "cell_type": "code",
   "execution_count": 38,
   "metadata": {
    "nbgrader": {
     "grade": false,
     "grade_id": "cell-824c1acfafdceedf",
     "locked": false,
     "schema_version": 3,
     "solution": true
    }
   },
   "outputs": [
    {
     "data": {
      "text/plain": [
       "[('Who was Hitler', 450),\n",
       " ('Painting', 360),\n",
       " ('Next Stop', 406),\n",
       " ('Mazwara', 788),\n",
       " ('h36:', 2160),\n",
       " ('Stuck', 360),\n",
       " ('Nari', 6017),\n",
       " ('Europa: The Last Battle', 746),\n",
       " ('Sakhi', 1179),\n",
       " ('An Infants Journey: Reggio Emilia Approach', 912),\n",
       " ('1998: The Deadliest Year For Children In American History', 396),\n",
       " ('Laundry', 359),\n",
       " ('Make Me Fly', 623),\n",
       " ('Bullfighting Memories', 1100)]"
      ]
     },
     "execution_count": 38,
     "metadata": {},
     "output_type": "execute_result"
    }
   ],
   "source": [
    "def Q3():\n",
    "    ### BEGIN SOLUTION\n",
    "    movies = list()\n",
    "    \n",
    "    for v in basics.values():\n",
    "        if v['runtimeMinutes'] is not None and v['runtimeMinutes'] > 300:\n",
    "            movies.append((v['primaryTitle'], v['runtimeMinutes']))\n",
    "            \n",
    "    return movies\n",
    "    ### END SOLUTION\n",
    "\n",
    "Q3()"
   ]
  },
  {
   "cell_type": "code",
   "execution_count": 39,
   "metadata": {
    "nbgrader": {
     "grade": true,
     "grade_id": "cell-92156cd5f8035a2e",
     "locked": true,
     "points": 2,
     "schema_version": 3,
     "solution": false
    }
   },
   "outputs": [],
   "source": [
    "assert len(Q3()) == 14\n",
    "assert all(len(row) == 2 and row[1] > 300 for row in Q3())\n",
    "### BEGIN HIDDEN TESTS\n",
    "assert Q3() == [\n",
    "    ('Who was Hitler', 450),\n",
    "    ('Painting', 360),\n",
    "    ('Next Stop', 406),\n",
    "    ('Mazwara', 788),\n",
    "    ('h36:', 2160),\n",
    "    ('Stuck', 360),\n",
    "    ('Nari', 6017),\n",
    "    ('Europa: The Last Battle', 746),\n",
    "    ('Sakhi', 1179),\n",
    "    ('An Infants Journey: Reggio Emilia Approach', 912),\n",
    "    ('1998: The Deadliest Year For Children In American History', 396),\n",
    "    ('Laundry', 359),\n",
    "    ('Make Me Fly', 623),\n",
    "    ('Bullfighting Memories', 1100),\n",
    "]\n",
    "### END HIDDEN TESTS"
   ]
  },
  {
   "cell_type": "markdown",
   "metadata": {
    "collapsed": true,
    "nbgrader": {
     "grade": false,
     "grade_id": "cell-9e7bb67585747189",
     "locked": true,
     "schema_version": 3,
     "solution": false
    }
   },
   "source": [
    "__4. Select the record in the `names` collection associated to \\_id 'nm0705356'__\n",
    "* _hint_: use `find_one` to return only one record\n",
    "* _return_: Record (where Record = Dict[str, Any])"
   ]
  },
  {
   "cell_type": "code",
   "execution_count": 40,
   "metadata": {
    "nbgrader": {
     "grade": false,
     "grade_id": "cell-56a09933c73fe5ff",
     "locked": false,
     "schema_version": 3,
     "solution": true
    }
   },
   "outputs": [
    {
     "data": {
      "text/plain": [
       "{'_id': 'nm0705356',\n",
       " 'primaryName': 'Daniel Radcliffe',\n",
       " 'birthYear': 1989,\n",
       " 'deathYear': None,\n",
       " 'knownForTitles': ['tt0373889', 'tt4034354', 'tt0926084', 'tt1201607'],\n",
       " 'primaryProfession': ['actor', 'soundtrack', 'producer']}"
      ]
     },
     "execution_count": 40,
     "metadata": {},
     "output_type": "execute_result"
    }
   ],
   "source": [
    "def Q4():\n",
    "    ### BEGIN SOLUTION\n",
    "    return names.find_one({'_id': 'nm0705356'})\n",
    "    ### END SOLUTION\n",
    "\n",
    "Q4()"
   ]
  },
  {
   "cell_type": "code",
   "execution_count": 41,
   "metadata": {
    "nbgrader": {
     "grade": true,
     "grade_id": "cell-de600da118a6dec7",
     "locked": true,
     "points": 2,
     "schema_version": 3,
     "solution": false
    }
   },
   "outputs": [],
   "source": [
    "assert isinstance(Q4(), dict)\n",
    "assert Q4()['_id'] == 'nm0705356'\n",
    "### BEGIN HIDDEN TESTS\n",
    "assert Q4() == {\n",
    "    '_id': 'nm0705356',\n",
    "    'primaryName': 'Daniel Radcliffe',\n",
    "    'birthYear': 1989,\n",
    "    'deathYear': None,\n",
    "    'knownForTitles': ['tt0373889', 'tt4034354', 'tt0926084', 'tt1201607'],\n",
    "    'primaryProfession': ['actor', 'soundtrack', 'producer']\n",
    "}\n",
    "### END HIDDEN TESTS"
   ]
  },
  {
   "cell_type": "markdown",
   "metadata": {
    "collapsed": true,
    "nbgrader": {
     "grade": false,
     "grade_id": "cell-0ad2ba08867937d3",
     "locked": true,
     "schema_version": 3,
     "solution": false
    }
   },
   "source": [
    "__5. Select the primaryName of the first 20 persons born in 2000, sorted by name (descending)__\n",
    "* _hint_: use the `find` method to return multiple results\n",
    "* _return_: List[Name] (where Name = str)"
   ]
  },
  {
   "cell_type": "code",
   "execution_count": 42,
   "metadata": {
    "nbgrader": {
     "grade": false,
     "grade_id": "cell-e667fccbb5d8a574",
     "locked": false,
     "schema_version": 3,
     "solution": true
    }
   },
   "outputs": [
    {
     "data": {
      "text/plain": [
       "['Zaira Wasim',\n",
       " 'Willow Shields',\n",
       " 'Viktor Derek',\n",
       " 'Tobias Nikolai Haugland',\n",
       " 'Stanislaw Cywka',\n",
       " 'Shelby Lyon',\n",
       " 'Ryan Henry Knight',\n",
       " 'Rachelle Henry',\n",
       " 'Pedro Diego',\n",
       " 'Na-Na OuYang',\n",
       " 'Moka Kamishiraishi',\n",
       " 'Minami Hamabe',\n",
       " 'Mima Ito',\n",
       " 'Max Baissette de Malglaive',\n",
       " 'Margaret Manousos',\n",
       " 'Ludvig Fahlstedt',\n",
       " 'Joshua Latorro',\n",
       " 'Jonah Bryson',\n",
       " 'Jackson Yee',\n",
       " 'G.M. Whiting']"
      ]
     },
     "execution_count": 42,
     "metadata": {},
     "output_type": "execute_result"
    }
   ],
   "source": [
    "def Q5():\n",
    "    ### BEGIN SOLUTION\n",
    "    cursor = names.find({'birthYear': 2000}, limit=20, sort=[('primaryName', -1)])\n",
    "    \n",
    "    return [x['primaryName'] for x in cursor]\n",
    "    ### END SOLUTION\n",
    "\n",
    "Q5()"
   ]
  },
  {
   "cell_type": "code",
   "execution_count": 43,
   "metadata": {
    "nbgrader": {
     "grade": true,
     "grade_id": "cell-038b270abaff25ce",
     "locked": true,
     "points": 2,
     "schema_version": 3,
     "solution": false
    }
   },
   "outputs": [],
   "source": [
    "assert len(Q5()) == 20\n",
    "assert all(isinstance(x, str) for x in Q5())\n",
    "### BEGIN HIDDEN TESTS\n",
    "assert Q5() == [\n",
    "    'Zaira Wasim',\n",
    "    'Willow Shields',\n",
    "    'Viktor Derek',\n",
    "    'Tobias Nikolai Haugland',\n",
    "    'Stanislaw Cywka',\n",
    "    'Shelby Lyon',\n",
    "    'Ryan Henry Knight',\n",
    "    'Rachelle Henry',\n",
    "    'Pedro Diego',\n",
    "    'Na-Na OuYang',\n",
    "    'Moka Kamishiraishi',\n",
    "    'Minami Hamabe',\n",
    "    'Mima Ito',\n",
    "    'Max Baissette de Malglaive',\n",
    "    'Margaret Manousos',\n",
    "    'Ludvig Fahlstedt',\n",
    "    'Joshua Latorro',\n",
    "    'Jonah Bryson',\n",
    "    'Jackson Yee',\n",
    "    'G.M. Whiting'\n",
    "]\n",
    "### END HIDDEN TESTS"
   ]
  },
  {
   "cell_type": "markdown",
   "metadata": {
    "collapsed": true,
    "nbgrader": {
     "grade": false,
     "grade_id": "cell-69ff748a9862f982",
     "locked": true,
     "schema_version": 3,
     "solution": false
    }
   },
   "source": [
    "__6. Select the primaryName and birthYear of persons born after 2000 (excluded) and whose name starts with the letter 'M'__\n",
    "* _hint_: use the `$and`, `$gt` and `$regex` operator of MongoDB\n",
    "* _return_: List[Tuple[primaryName, birthYear]] (where primaryName = str, birthYear = int)"
   ]
  },
  {
   "cell_type": "code",
   "execution_count": 44,
   "metadata": {
    "nbgrader": {
     "grade": false,
     "grade_id": "cell-b9bf55def2db660b",
     "locked": false,
     "schema_version": 3,
     "solution": true
    },
    "scrolled": true
   },
   "outputs": [
    {
     "data": {
      "text/plain": [
       "[('Mckenna Grace', 2006),\n",
       " ('Moxie Jillette', 2005),\n",
       " ('Maddie Dixon-Poirier', 2005),\n",
       " ('Mana Ashida', 2004),\n",
       " ('Mujtuba Ahmed', 2004),\n",
       " ('Mariangeli Collado', 2003),\n",
       " ('Madison Wolfe', 2002),\n",
       " ('Maisa Silva', 2002),\n",
       " ('Milo Parker', 2002)]"
      ]
     },
     "execution_count": 44,
     "metadata": {},
     "output_type": "execute_result"
    }
   ],
   "source": [
    "def Q6():\n",
    "    ### BEGIN SOLUTION\n",
    "    cursor = names.find({\"$and\": [{\"birthYear\": {\"$gt\": 2000}},\n",
    "                                  {\"primaryName\": {\"$regex\": \"M\"}}]})\n",
    "    \n",
    "    return [(x[\"primaryName\"], x[\"birthYear\"]) for x in cursor]\n",
    "    ### END SOLUTION\n",
    "\n",
    "Q6()"
   ]
  },
  {
   "cell_type": "code",
   "execution_count": 45,
   "metadata": {
    "nbgrader": {
     "grade": true,
     "grade_id": "cell-1cea9289869013f0",
     "locked": true,
     "points": 2,
     "schema_version": 3,
     "solution": false
    }
   },
   "outputs": [],
   "source": [
    "assert len(Q6()) == 9\n",
    "assert all(len(row) == 2 for row in Q6())\n",
    "assert all(row[1] > 2000 for row in Q6())\n",
    "### BEGIN HIDDEN TESTS\n",
    "assert Q6() == [\n",
    "    ('Mckenna Grace', 2006),\n",
    "    ('Moxie Jillette', 2005),\n",
    "    ('Maddie Dixon-Poirier', 2005),\n",
    "    ('Mana Ashida', 2004),\n",
    "    ('Mujtuba Ahmed', 2004),\n",
    "    ('Mariangeli Collado', 2003),\n",
    "    ('Madison Wolfe', 2002),\n",
    "    ('Maisa Silva', 2002),\n",
    "    ('Milo Parker', 2002),\n",
    "]\n",
    "### END HIDDEN TESTS"
   ]
  },
  {
   "cell_type": "markdown",
   "metadata": {
    "collapsed": true,
    "nbgrader": {
     "grade": false,
     "grade_id": "cell-723286e67c10a5ac",
     "locked": true,
     "schema_version": 3,
     "solution": false
    }
   },
   "source": [
    "__7. Compute the average movie runtime in minutes__\n",
    "* _hint_: aggregation has to be performed with code\n",
    "* _return_: Average (where Average = float)"
   ]
  },
  {
   "cell_type": "code",
   "execution_count": 46,
   "metadata": {
    "nbgrader": {
     "grade": false,
     "grade_id": "cell-2b3d8c908851350f",
     "locked": false,
     "schema_version": 3,
     "solution": true
    }
   },
   "outputs": [
    {
     "data": {
      "text/plain": [
       "82.12603260472257"
      ]
     },
     "execution_count": 46,
     "metadata": {},
     "output_type": "execute_result"
    }
   ],
   "source": [
    "def Q7():\n",
    "    ### BEGIN SOLUTION\n",
    "    runtimes = list()\n",
    "    \n",
    "    for x in basics.values():\n",
    "        runtime = x['runtimeMinutes']\n",
    "        \n",
    "        if runtime is not None:\n",
    "            runtimes.append(runtime)\n",
    "    \n",
    "    return sum(runtimes) / len(runtimes)\n",
    "    ### END SOLUTION\n",
    "\n",
    "Q7()"
   ]
  },
  {
   "cell_type": "code",
   "execution_count": 47,
   "metadata": {
    "nbgrader": {
     "grade": true,
     "grade_id": "cell-b18c8bf9308ba4ce",
     "locked": true,
     "points": 2,
     "schema_version": 3,
     "solution": false
    }
   },
   "outputs": [],
   "source": [
    "assert isinstance(Q7(), float)\n",
    "### BEGIN HIDDEN TESTS\n",
    "assert 82 < Q7() < 83\n",
    "### END HIDDEN TESTS"
   ]
  },
  {
   "cell_type": "markdown",
   "metadata": {
    "collapsed": true,
    "nbgrader": {
     "grade": false,
     "grade_id": "cell-dabc1ad6d9250a23",
     "locked": true,
     "schema_version": 3,
     "solution": false
    }
   },
   "source": [
    "__8. Select the primary name and the primary titles for which the first 20 persons are known for__\n",
    "* _hint_: you have to join the two database collections\n",
    "* _return_: List[Tuple[primaryName, List[primaryTitle]]] (where primaryName = primaryTitle = str)"
   ]
  },
  {
   "cell_type": "code",
   "execution_count": 48,
   "metadata": {
    "nbgrader": {
     "grade": false,
     "grade_id": "cell-12e87ffb9860b577",
     "locked": false,
     "schema_version": 3,
     "solution": true
    }
   },
   "outputs": [
    {
     "data": {
      "text/plain": [
       "[('Baste Granfon', ['Meant to Beh']),\n",
       " ('Nicole Abbey', ['Bakers Club']),\n",
       " ('Valentina Gordon', ['Bluest Moon']),\n",
       " ('Viktor Antonio', ['Spunti na vode']),\n",
       " ('Chutian Liu', []),\n",
       " ('Run-yin Bai',\n",
       "  ['The Bold, the Corrupt, and the Beautiful',\n",
       "   'Mr. Long',\n",
       "   'A Fish Out of Water',\n",
       "   'See You After Life']),\n",
       " ('Aybars Kartal Özson', ['Benim Babam Bir Melek']),\n",
       " ('Fiorela Duranda', []),\n",
       " ('Robert Levey II', ['The Goblin']),\n",
       " ('Daniel Vízek', ['Ice Mother']),\n",
       " ('CC King', []),\n",
       " ('Sage Correa', ['Kidnap']),\n",
       " ('Brooke Norbury', ['Double Date']),\n",
       " ('Jacob Tremblay', ['Wonder', 'The Book of Henry']),\n",
       " ('Mckenna Grace', ['Gifted', 'I, Tonya']),\n",
       " ('Zhi-Xuan Wu', []),\n",
       " ('Balim Gaye Bayrak', []),\n",
       " ('Timothy Radford', [\"The Zookeeper's Wife\"]),\n",
       " ('Francisca Aronsson', ['Cebiche de tiburón']),\n",
       " ('Kairi Danielson', ['Celaderion'])]"
      ]
     },
     "execution_count": 48,
     "metadata": {},
     "output_type": "execute_result"
    }
   ],
   "source": [
    "def Q8():\n",
    "    ### BEGIN SOLUTION\n",
    "    results = list()\n",
    "    \n",
    "    for x in names.find(limit=20):\n",
    "        titles = list()\n",
    "        \n",
    "        for tid in x['knownForTitles']:\n",
    "            if tid not in basics:\n",
    "                continue\n",
    "                \n",
    "            movie = basics[tid]\n",
    "            titles.append(movie['primaryTitle'])\n",
    "            \n",
    "        results.append((x['primaryName'], titles))\n",
    "        \n",
    "    return results\n",
    "    ### END SOLUTION\n",
    "\n",
    "Q8()"
   ]
  },
  {
   "cell_type": "code",
   "execution_count": 49,
   "metadata": {
    "nbgrader": {
     "grade": true,
     "grade_id": "cell-dd0fbeed69b0c018",
     "locked": true,
     "points": 2,
     "schema_version": 3,
     "solution": false
    }
   },
   "outputs": [],
   "source": [
    "assert len(Q8()) == 20\n",
    "assert all(len(row) == 2 for row in Q8())\n",
    "### BEGIN HIDDEN TESTS\n",
    "assert Q8() == [\n",
    "    ('Baste Granfon', ['Meant to Beh']),\n",
    "    ('Nicole Abbey', ['Bakers Club']),\n",
    "    ('Valentina Gordon', ['Bluest Moon']),\n",
    "    ('Viktor Antonio', ['Spunti na vode']),\n",
    "    ('Chutian Liu', []),\n",
    "    ('Run-yin Bai',\n",
    "    ['The Bold, the Corrupt, and the Beautiful',\n",
    "    'Mr. Long',\n",
    "    'A Fish Out of Water',\n",
    "    'See You After Life']),\n",
    "    ('Aybars Kartal Özson', ['Benim Babam Bir Melek']),\n",
    "    ('Fiorela Duranda', []),\n",
    "    ('Robert Levey II', ['The Goblin']),\n",
    "    ('Daniel Vízek', ['Ice Mother']),\n",
    "    ('CC King', []),\n",
    "    ('Sage Correa', ['Kidnap']),\n",
    "    ('Brooke Norbury', ['Double Date']),\n",
    "    ('Jacob Tremblay', ['Wonder', 'The Book of Henry']),\n",
    "    ('Mckenna Grace', ['Gifted', 'I, Tonya']),\n",
    "    ('Zhi-Xuan Wu', []),\n",
    "    ('Balim Gaye Bayrak', []),\n",
    "    ('Timothy Radford', [\"The Zookeeper's Wife\"]),\n",
    "    ('Francisca Aronsson', ['Cebiche de tiburón']),\n",
    "    ('Kairi Danielson', ['Celaderion']),\n",
    "]\n",
    "### END HIDDEN TESTS"
   ]
  },
  {
   "cell_type": "markdown",
   "metadata": {
    "collapsed": true,
    "nbgrader": {
     "grade": false,
     "grade_id": "cell-dfb3b7e8605f104d",
     "locked": true,
     "schema_version": 3,
     "solution": false
    }
   },
   "source": [
    "__9. Select a sorted (ascending) and distinct list of movie genres__\n",
    "* _hint_: Python provides a `set` structure and `sorted` function\n",
    "* _return_: List[Genre] (where Genre = str)"
   ]
  },
  {
   "cell_type": "code",
   "execution_count": 50,
   "metadata": {
    "nbgrader": {
     "grade": false,
     "grade_id": "cell-e11e8ea4e390320a",
     "locked": false,
     "schema_version": 3,
     "solution": true
    }
   },
   "outputs": [
    {
     "data": {
      "text/plain": [
       "['Action',\n",
       " 'Adult',\n",
       " 'Adventure',\n",
       " 'Animation',\n",
       " 'Biography',\n",
       " 'Comedy',\n",
       " 'Crime',\n",
       " 'Documentary',\n",
       " 'Drama',\n",
       " 'Family',\n",
       " 'Fantasy',\n",
       " 'Game-Show',\n",
       " 'History',\n",
       " 'Horror',\n",
       " 'Music',\n",
       " 'Musical',\n",
       " 'Mystery',\n",
       " 'News',\n",
       " 'Reality-TV',\n",
       " 'Romance',\n",
       " 'Sci-Fi',\n",
       " 'Short',\n",
       " 'Sport',\n",
       " 'Talk-Show',\n",
       " 'Thriller',\n",
       " 'War',\n",
       " 'Western']"
      ]
     },
     "execution_count": 50,
     "metadata": {},
     "output_type": "execute_result"
    }
   ],
   "source": [
    "def Q9():\n",
    "    ### BEGIN SOLUTION\n",
    "    genres = set()\n",
    "    \n",
    "    for x in basics.values():\n",
    "        genres.update(x['genres'])\n",
    "        \n",
    "    return list(sorted(genres))\n",
    "    ### END SOLUTION\n",
    "\n",
    "Q9()"
   ]
  },
  {
   "cell_type": "code",
   "execution_count": 51,
   "metadata": {
    "nbgrader": {
     "grade": true,
     "grade_id": "cell-5c6cf9a4dd9a067a",
     "locked": true,
     "points": 2,
     "schema_version": 3,
     "solution": false
    }
   },
   "outputs": [],
   "source": [
    "assert len(Q9()) == 27\n",
    "assert all(isinstance(x, str) for x in Q9())\n",
    "### BEGIN HIDDEN TESTS\n",
    "assert Q9() == [\n",
    "    'Action',\n",
    "    'Adult',\n",
    "    'Adventure',\n",
    "    'Animation',\n",
    "    'Biography',\n",
    "    'Comedy',\n",
    "    'Crime',\n",
    "    'Documentary',\n",
    "    'Drama',\n",
    "    'Family',\n",
    "    'Fantasy',\n",
    "    'Game-Show',\n",
    "    'History',\n",
    "    'Horror',\n",
    "    'Music',\n",
    "    'Musical',\n",
    "    'Mystery',\n",
    "    'News',\n",
    "    'Reality-TV',\n",
    "    'Romance',\n",
    "    'Sci-Fi',\n",
    "    'Short',\n",
    "    'Sport',\n",
    "    'Talk-Show',\n",
    "    'Thriller',\n",
    "    'War',\n",
    "    'Western'\n",
    "]\n",
    "### END HIDDEN TESTS"
   ]
  },
  {
   "cell_type": "markdown",
   "metadata": {
    "collapsed": true,
    "nbgrader": {
     "grade": false,
     "grade_id": "cell-b426b059d27d0d37",
     "locked": true,
     "schema_version": 3,
     "solution": false
    }
   },
   "source": [
    "__10. Select number of distinct movies for which a person is known for and which exists in the `basics` collection__\n",
    "- _hint_: I insist on the distinct and exists word in the question\n",
    "- _return_: Count (where Count = int)"
   ]
  },
  {
   "cell_type": "code",
   "execution_count": 52,
   "metadata": {
    "nbgrader": {
     "grade": false,
     "grade_id": "cell-2251a150ede884cd",
     "locked": false,
     "schema_version": 3,
     "solution": true
    }
   },
   "outputs": [
    {
     "data": {
      "text/plain": [
       "3393"
      ]
     },
     "execution_count": 52,
     "metadata": {},
     "output_type": "execute_result"
    }
   ],
   "source": [
    "def Q10():\n",
    "    ### BEGIN SOLUTION\n",
    "    titles = set()\n",
    "    \n",
    "    for name in names.find():\n",
    "        for tid in name['knownForTitles']:\n",
    "            if tid in basics:\n",
    "                titles.add(tid)\n",
    "                \n",
    "    return len(titles)\n",
    "    ### END SOLUTION\n",
    "\n",
    "Q10()"
   ]
  },
  {
   "cell_type": "code",
   "execution_count": 53,
   "metadata": {
    "nbgrader": {
     "grade": true,
     "grade_id": "cell-eee5133254e9654b",
     "locked": true,
     "points": 2,
     "schema_version": 3,
     "solution": false
    }
   },
   "outputs": [],
   "source": [
    "assert isinstance(Q10(), int)\n",
    "### BEGIN HIDDEN TESTS\n",
    "assert Q10() == 3393\n",
    "### END HIDDEN TESTS"
   ]
  }
 ],
 "metadata": {
  "celltoolbar": "Create Assignment",
  "hide_input": false,
  "kernelspec": {
   "display_name": "Python 3",
   "language": "python",
   "name": "python3"
  },
  "language_info": {
   "codemirror_mode": {
    "name": "ipython",
    "version": 3
   },
   "file_extension": ".py",
   "mimetype": "text/x-python",
   "name": "python",
   "nbconvert_exporter": "python",
   "pygments_lexer": "ipython3",
   "version": "3.7.0"
  },
  "toc": {
   "base_numbering": 1,
   "nav_menu": {},
   "number_sections": true,
   "sideBar": true,
   "skip_h1_title": false,
   "title_cell": "Table of Contents",
   "title_sidebar": "Contents",
   "toc_cell": false,
   "toc_position": {},
   "toc_section_display": true,
   "toc_window_display": false
  }
 },
 "nbformat": 4,
 "nbformat_minor": 2
}
