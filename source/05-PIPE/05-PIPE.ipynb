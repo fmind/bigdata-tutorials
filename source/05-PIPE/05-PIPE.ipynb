{
 "cells": [
  {
   "cell_type": "markdown",
   "metadata": {
    "nbgrader": {
     "grade": false,
     "grade_id": "cell-30e9a7c49790a0f2",
     "locked": true,
     "schema_version": 1,
     "solution": false
    }
   },
   "source": [
    "# Tutorial 5: Data Pipeline"
   ]
  },
  {
   "cell_type": "markdown",
   "metadata": {
    "nbgrader": {
     "grade": false,
     "grade_id": "cell-36912ea78749d08d",
     "locked": true,
     "schema_version": 1,
     "solution": false
    }
   },
   "source": [
    "__The goal of this assignment is to create 10 data pipelines based on Dask Bag API.__\n",
    "\n",
    "For this exercise, we will use [Hillary Clinton emails that leaked before her campaign in 2015](https://www.kaggle.com/kaggle/hillary-clinton-emails). \n",
    "\n",
    "Dask is a flexible library for parallel computing in Python. Its API is similar to PySpark RDD.\n",
    "\n",
    "Dask Bag is a subset of Dask specialized in processing large dataset with a small memory footprint.\n",
    "\n",
    "The nice thing about Dask Bag is the processing is delayed as long as possible to save computation time.\n",
    "\n",
    "Dask is a convenient parallel toolkit you can use to transform large collection of data prior to other analysis.\n",
    "\n",
    "__Grade scale__: 20 points\n",
    "- __correct query__: 2 points\n",
    "- __incorrect query__: 0 points\n",
    "\n",
    "__Further documentations__:\n",
    "* https://learnxinyminutes.com/docs/python/\n",
    "* http://docs.dask.org/en/stable/bag-overview.html\n",
    "* https://www.kaggle.com/kaggle/hillary-clinton-emails"
   ]
  },
  {
   "cell_type": "markdown",
   "metadata": {
    "nbgrader": {
     "grade": false,
     "grade_id": "cell-cad05a4141096aae",
     "locked": true,
     "schema_version": 1,
     "solution": false
    }
   },
   "source": [
    "# Core"
   ]
  },
  {
   "cell_type": "code",
   "execution_count": 46,
   "metadata": {
    "nbgrader": {
     "grade": false,
     "grade_id": "cell-bd77d873f4f55183",
     "locked": true,
     "schema_version": 1,
     "solution": false
    }
   },
   "outputs": [],
   "source": [
    "# import dask bag\n",
    "import dask.bag as db\n",
    "\n",
    "# read the emails, remove newlines and split them on '|'\n",
    "emails = db.read_text('emails.csv.gz', compression='gzip')\n",
    "emails = emails.str.rstrip().str.split('|')\n",
    "\n",
    "# separate the bag between two set: the head (1st row) and body (other rows)\n",
    "head, body = emails.filter(lambda x: x[0] == 'Id'), emails.remove(lambda x: x[0] == 'Id')"
   ]
  },
  {
   "cell_type": "code",
   "execution_count": 47,
   "metadata": {
    "nbgrader": {
     "grade": false,
     "grade_id": "cell-7b6393fdf8a51fad",
     "locked": true,
     "schema_version": 1,
     "solution": false
    }
   },
   "outputs": [
    {
     "name": "stdout",
     "output_type": "stream",
     "text": [
      "0: Id\n",
      "1: DocNumber\n",
      "2: MetadataSubject\n",
      "3: MetadataTo\n",
      "4: MetadataFrom\n",
      "5: SenderPersonId\n",
      "6: MetadataDateSent\n",
      "7: MetadataDateReleased\n",
      "8: MetadataPdfLink\n",
      "9: MetadataCaseNumber\n",
      "10: MetadataDocumentClass\n",
      "11: ExtractedSubject\n",
      "12: ExtractedTo\n",
      "13: ExtractedFrom\n",
      "14: ExtractedCc\n",
      "15: ExtractedDateSent\n",
      "16: ExtractedCaseNumber\n",
      "17: ExtractedDocNumber\n",
      "18: ExtractedDateReleased\n",
      "19: ExtractedReleaseInPartOrFull\n",
      "20: ExtractedBodyText\n",
      "21: RawText\n",
      "\n",
      "0: 1\n",
      "1: C05739545\n",
      "2: WOW\n",
      "3: H\n",
      "4: Sullivan, Jacob J\n",
      "5: 87\n",
      "6: 2012-09-12T04:00:00+00:00\n",
      "7: 2015-05-22T04:00:00+00:00\n",
      "8: DOCUMENTS/HRC_Email_1_296/HRCH2/DOC_0C05739545/C05739545.pdf\n",
      "9: F-2015-04841\n",
      "10: HRC_Email_296\n",
      "11: FW: Wow\n",
      "12: \n",
      "13: Sullivan, Jacob J <Sullivan11@state.gov>\n",
      "14: \n",
      "15: Wednesday, September 12, 2012 10:16 AM\n",
      "16: F-2015-04841\n",
      "17: C05739545\n",
      "18: 05/13/2015\n",
      "19: RELEASE IN FULL\n",
      "20: \n",
      "21: UNCLASSIFIED U.S. Department of State Case No. F-2015-04841 Doc No. C05739545 Date: 05/13/2015 STATE DEPT. - PRODUCED TO HOUSE SELECT BENGHAZI COMM. SUBJECT TO AGREEMENT ON SENSITIVE INFORMATION & REDACTIONS. NO FOIA WAIVER. RELEASE IN FULL From: Sullivan, Jacob J <Sullivan11@state.gov> Sent: Wednesday, September 12, 2012 10:16 AM To: Subject: FW: Wow From: Brose, Christian (Armed Services) (mailto:Christian_Brose@armed-servic,essenate.govi Sent: Wednesday, September 12, 2012 10:09 AM To: Sullivan, Jacob J Subject: Wow What a wonderful, strong and moving statement by your boss. please tell her how much Sen. McCain appreciated it. Me too UNCLASSIFIED U.S. Department of State Case No. F-2015-04841 Doc No. C05739545 Date: 05/13/2015 STATE DEPT. - PRODUCED TO HOUSE SELECT BENGHAZI COMM. SUBJECT TO AGREEMENT ON SENSITIVE INFORMATION & REDACTIONS. NO FOIA WAIVER. STATE-5CB0045247\n",
      "\n"
     ]
    }
   ],
   "source": [
    "# index and print two rows\n",
    "for email in emails.take(2):\n",
    "    for i, field in enumerate(email):\n",
    "        print(\"{}: {}\".format(i, field))\n",
    "    print()"
   ]
  },
  {
   "cell_type": "markdown",
   "metadata": {
    "nbgrader": {
     "grade": false,
     "grade_id": "cell-b4235826cda24066",
     "locked": true,
     "schema_version": 1,
     "solution": false
    }
   },
   "source": [
    "# Examples"
   ]
  },
  {
   "cell_type": "code",
   "execution_count": 48,
   "metadata": {
    "nbgrader": {
     "grade": false,
     "grade_id": "cell-9bbd44fc91c76aed",
     "locked": true,
     "schema_version": 1,
     "solution": false
    }
   },
   "outputs": [
    {
     "data": {
      "text/plain": [
       "('Sullivan, Jacob J <Sullivan11@state.gov>',\n",
       " '',\n",
       " 'Mills, Cheryl D <MillsCD@state.gov>',\n",
       " 'Mills, Cheryl D <MillsCD@state.gov>',\n",
       " '')"
      ]
     },
     "execution_count": 48,
     "metadata": {},
     "output_type": "execute_result"
    }
   ],
   "source": [
    "# - get the 13th field\n",
    "# - take first 5 rows\n",
    "body.pluck(13).take(5)"
   ]
  },
  {
   "cell_type": "code",
   "execution_count": 49,
   "metadata": {
    "nbgrader": {
     "grade": false,
     "grade_id": "cell-3a524cb84fd2251d",
     "locked": true,
     "schema_version": 1,
     "solution": false
    }
   },
   "outputs": [
    {
     "data": {
      "text/plain": [
       "7945"
      ]
     },
     "execution_count": 49,
     "metadata": {},
     "output_type": "execute_result"
    }
   ],
   "source": [
    "# - get the 1st field\n",
    "# - convert them to an int\n",
    "# - compute the maximum value\n",
    "# - the pipeline starts on .compute()\n",
    "body.pluck(0).map(int).max().compute()"
   ]
  },
  {
   "cell_type": "code",
   "execution_count": 50,
   "metadata": {
    "nbgrader": {
     "grade": false,
     "grade_id": "cell-c85baf48e50a5435",
     "locked": true,
     "schema_version": 1,
     "solution": false
    }
   },
   "outputs": [
    {
     "data": {
      "image/png": "[encoded data removed]",
      "text/plain": [
       "<IPython.core.display.Image object>"
      ]
     },
     "execution_count": 50,
     "metadata": {},
     "output_type": "execute_result"
    }
   ],
   "source": [
    "# you can also visualize the pipeline\n",
    "body.pluck(0).map(int).max().visualize()"
   ]
  },
  {
   "cell_type": "markdown",
   "metadata": {
    "nbgrader": {
     "grade": false,
     "grade_id": "cell-cbca6f7bfb85d807",
     "locked": true,
     "schema_version": 1,
     "solution": false
    }
   },
   "source": [
    "# Queries"
   ]
  },
  {
   "cell_type": "markdown",
   "metadata": {
    "nbgrader": {
     "grade": false,
     "grade_id": "cell-0c90b835dbcffeca",
     "locked": true,
     "schema_version": 1,
     "solution": false
    }
   },
   "source": [
    "__1. Count the number of distinct recipients (3: MetadataTo)__\n",
    "* _hint_: use the right column index to pluck the recipient\n",
    "* _return_: int"
   ]
  },
  {
   "cell_type": "code",
   "execution_count": 51,
   "metadata": {
    "nbgrader": {
     "grade": false,
     "grade_id": "cell-af420023b7676ec1",
     "locked": false,
     "schema_version": 1,
     "solution": true
    }
   },
   "outputs": [
    {
     "data": {
      "text/plain": [
       "236"
      ]
     },
     "execution_count": 51,
     "metadata": {},
     "output_type": "execute_result"
    }
   ],
   "source": [
    "def Q1():\n",
    "    ### BEGIN SOLUTION\n",
    "    return body.pluck(3).distinct().count().compute()\n",
    "    ### END SOLUTION\n",
    "\n",
    "Q1()"
   ]
  },
  {
   "cell_type": "code",
   "execution_count": 52,
   "metadata": {
    "nbgrader": {
     "grade": true,
     "grade_id": "cell-38b42e490724ca6d",
     "locked": true,
     "points": 2,
     "schema_version": 1,
     "solution": false
    }
   },
   "outputs": [],
   "source": [
    "assert isinstance(Q1(), int)\n",
    "### BEGIN HIDDEN TESTS\n",
    "assert Q1() == 236\n",
    "### END HIDDEN TESTS"
   ]
  },
  {
   "cell_type": "markdown",
   "metadata": {
    "nbgrader": {
     "grade": false,
     "grade_id": "cell-ce65452c27ac2f2f",
     "locked": true,
     "schema_version": 1,
     "solution": false
    }
   },
   "source": [
    "__2. Count the number of email sent by Hillary Clinton (4: MetadataFrom)__\n",
    "* _hint_: email sent by Hillary Clinton have their sender value equals to \"H\"\n",
    "* _return_: int"
   ]
  },
  {
   "cell_type": "code",
   "execution_count": 53,
   "metadata": {
    "nbgrader": {
     "grade": false,
     "grade_id": "cell-b969bb555ff6e41f",
     "locked": false,
     "schema_version": 1,
     "solution": true
    }
   },
   "outputs": [
    {
     "data": {
      "text/plain": [
       "1906"
      ]
     },
     "execution_count": 53,
     "metadata": {},
     "output_type": "execute_result"
    }
   ],
   "source": [
    "def Q2():\n",
    "    ### BEGIN SOLUTION\n",
    "    return body.pluck(4).filter(lambda x: x == \"H\").count().compute()\n",
    "    ### END SOLUTION\n",
    "\n",
    "Q2()"
   ]
  },
  {
   "cell_type": "code",
   "execution_count": 54,
   "metadata": {
    "nbgrader": {
     "grade": true,
     "grade_id": "cell-12c7bfa02b131299",
     "locked": true,
     "points": 2,
     "schema_version": 1,
     "solution": false
    }
   },
   "outputs": [],
   "source": [
    "assert isinstance(Q2(), int)\n",
    "### BEGIN HIDDEN TESTS\n",
    "assert Q2() == 1906\n",
    "### END HIDDEN TESTS"
   ]
  },
  {
   "cell_type": "markdown",
   "metadata": {
    "nbgrader": {
     "grade": false,
     "grade_id": "cell-d708e6866bc861a8",
     "locked": true,
     "schema_version": 1,
     "solution": false
    }
   },
   "source": [
    "__3. Return the frequencies of emails extracted fully or partially (sorted by value) (19: ExtractedReleaseInPartOrFull)__\n",
    "* _hint_: Dask Bag provides a method to compute frequencies from selected columns\n",
    "* _return_: List[Tuple[str, int]]"
   ]
  },
  {
   "cell_type": "code",
   "execution_count": 55,
   "metadata": {
    "nbgrader": {
     "grade": false,
     "grade_id": "cell-4a5f68774ae2d9f4",
     "locked": false,
     "schema_version": 1,
     "solution": true
    }
   },
   "outputs": [
    {
     "data": {
      "text/plain": [
       "[('RELEASE IN PART', 4327), ('RELEASE IN FULL', 3579), ('UNKNOWN', 38)]"
      ]
     },
     "execution_count": 55,
     "metadata": {},
     "output_type": "execute_result"
    }
   ],
   "source": [
    "def Q3():\n",
    "    ### BEGIN SOLUTION\n",
    "    return body.pluck(19).frequencies(sort=True).compute()\n",
    "    ### END SOLUTION\n",
    "\n",
    "Q3()"
   ]
  },
  {
   "cell_type": "code",
   "execution_count": 56,
   "metadata": {
    "nbgrader": {
     "grade": true,
     "grade_id": "cell-d267f272cd2eca06",
     "locked": true,
     "points": 2,
     "schema_version": 1,
     "solution": false
    }
   },
   "outputs": [],
   "source": [
    "assert len(Q3()) == 3\n",
    "assert all(isinstance(row[0], str) and isinstance(row[1], int) for row in Q3())\n",
    "### BEGIN HIDDEN TESTS\n",
    "assert Q3() == [('RELEASE IN PART', 4327), ('RELEASE IN FULL', 3579), ('UNKNOWN', 38)]\n",
    "### END HIDDEN TESTS"
   ]
  },
  {
   "cell_type": "markdown",
   "metadata": {
    "nbgrader": {
     "grade": false,
     "grade_id": "cell-56516fa49da508ce",
     "locked": true,
     "schema_version": 1,
     "solution": false
    }
   },
   "source": [
    "__4. Compute the average number of people in copy of email (14: ExtractedCc)__\n",
    "* _hint_: you can split the recipients by ';' with str.split\n",
    "* _return_: float"
   ]
  },
  {
   "cell_type": "code",
   "execution_count": 57,
   "metadata": {
    "nbgrader": {
     "grade": false,
     "grade_id": "cell-5151e01f60804944",
     "locked": false,
     "schema_version": 1,
     "solution": true
    }
   },
   "outputs": [
    {
     "data": {
      "text/plain": [
       "1.2243202416918428"
      ]
     },
     "execution_count": 57,
     "metadata": {},
     "output_type": "execute_result"
    }
   ],
   "source": [
    "def Q4():\n",
    "    ### BEGIN SOLUTION\n",
    "    return body.pluck(14).str.split(';').map(len).mean().compute()\n",
    "    ### END SOLUTION\n",
    "\n",
    "Q4()"
   ]
  },
  {
   "cell_type": "code",
   "execution_count": 58,
   "metadata": {
    "nbgrader": {
     "grade": true,
     "grade_id": "cell-481746201e851626",
     "locked": true,
     "points": 2,
     "schema_version": 1,
     "solution": false
    }
   },
   "outputs": [],
   "source": [
    "assert isinstance(Q4(), float)\n",
    "### BEGIN HIDDEN TESTS\n",
    "assert 1.2 < Q4() < 1.3\n",
    "### END HIDDEN TESTS"
   ]
  },
  {
   "cell_type": "markdown",
   "metadata": {
    "nbgrader": {
     "grade": false,
     "grade_id": "cell-f0f81e40ce77a867",
     "locked": true,
     "schema_version": 1,
     "solution": false
    }
   },
   "source": [
    "__5. Is there a subject associated to every email (2: MetadataSubject) ?__\n",
    "* _hint_: you can use `all()` method to answer this question\n",
    "* _return_: bool"
   ]
  },
  {
   "cell_type": "code",
   "execution_count": 59,
   "metadata": {
    "nbgrader": {
     "grade": false,
     "grade_id": "cell-0d6b6981c043eae0",
     "locked": false,
     "schema_version": 1,
     "solution": true
    }
   },
   "outputs": [
    {
     "data": {
      "text/plain": [
       "False"
      ]
     },
     "execution_count": 59,
     "metadata": {},
     "output_type": "execute_result"
    }
   ],
   "source": [
    "def Q5():\n",
    "    ### BEGIN SOLUTION\n",
    "    return body.pluck(2).map(bool).all().compute()\n",
    "    ### END SOLUTION\n",
    "\n",
    "Q5()"
   ]
  },
  {
   "cell_type": "code",
   "execution_count": 60,
   "metadata": {
    "nbgrader": {
     "grade": true,
     "grade_id": "cell-d7fc18b7ec8a407d",
     "locked": true,
     "points": 2,
     "schema_version": 1,
     "solution": false
    }
   },
   "outputs": [],
   "source": [
    "assert isinstance(Q5(), bool)\n",
    "### BEGIN HIDDEN TESTS\n",
    "assert Q5() == False\n",
    "### END HIDDEN TESTS"
   ]
  },
  {
   "cell_type": "markdown",
   "metadata": {
    "nbgrader": {
     "grade": false,
     "grade_id": "cell-2090ab64121d7a37",
     "locked": true,
     "schema_version": 1,
     "solution": false
    }
   },
   "source": [
    "__6. Count the number of emails send from Hillary Cliton ('H') to Hillary Clinton ('H') (3: MetadataTo, 4: MetadataFrom)__\n",
    "* _hint_: you have to build your your own filter for this case\n",
    "* _return_: int"
   ]
  },
  {
   "cell_type": "code",
   "execution_count": 61,
   "metadata": {
    "nbgrader": {
     "grade": false,
     "grade_id": "cell-ed5f0b03a1675a58",
     "locked": false,
     "schema_version": 1,
     "solution": true
    }
   },
   "outputs": [
    {
     "data": {
      "text/plain": [
       "2"
      ]
     },
     "execution_count": 61,
     "metadata": {},
     "output_type": "execute_result"
    }
   ],
   "source": [
    "def Q6():\n",
    "    ### BEGIN SOLUTION\n",
    "    return body.filter(lambda row: row[3] == 'H' and row[4] == 'H').count().compute()\n",
    "    ### END SOLUTION\n",
    "\n",
    "Q6()"
   ]
  },
  {
   "cell_type": "code",
   "execution_count": 62,
   "metadata": {
    "nbgrader": {
     "grade": true,
     "grade_id": "cell-93ef4ae7112f9795",
     "locked": true,
     "points": 2,
     "schema_version": 1,
     "solution": false
    }
   },
   "outputs": [],
   "source": [
    "assert isinstance(Q6(), int)\n",
    "### BEGIN HIDDEN TESTS\n",
    "assert Q6() == 2\n",
    "### END HIDDEN TESTS"
   ]
  },
  {
   "cell_type": "markdown",
   "metadata": {
    "nbgrader": {
     "grade": false,
     "grade_id": "cell-497acc804e90967f",
     "locked": true,
     "schema_version": 1,
     "solution": false
    }
   },
   "source": [
    "__7. Count the total number of words in email bodies (21: RawText)__\n",
    "* _hint_: words are extracted by splitting text by space ' '\n",
    "* _return_: int (the words do not have to be distinct)"
   ]
  },
  {
   "cell_type": "code",
   "execution_count": 63,
   "metadata": {
    "nbgrader": {
     "grade": false,
     "grade_id": "cell-6a1daef61811752d",
     "locked": false,
     "schema_version": 1,
     "solution": true
    }
   },
   "outputs": [
    {
     "data": {
      "text/plain": [
       "3011102"
      ]
     },
     "execution_count": 63,
     "metadata": {},
     "output_type": "execute_result"
    }
   ],
   "source": [
    "def Q7():\n",
    "    ### BEGIN SOLUTION\n",
    "    return body.pluck(21).str.split(' ').flatten().count().compute()\n",
    "    ### END SOLUTION\n",
    "\n",
    "Q7()"
   ]
  },
  {
   "cell_type": "code",
   "execution_count": 64,
   "metadata": {
    "nbgrader": {
     "grade": true,
     "grade_id": "cell-fe9ea22acb67684f",
     "locked": true,
     "points": 2,
     "schema_version": 1,
     "solution": false
    }
   },
   "outputs": [],
   "source": [
    "assert isinstance(Q7(), int)\n",
    "### BEGIN HIDDEN TESTS\n",
    "assert Q7() == 3011102\n",
    "### END HIDDEN TESTS"
   ]
  },
  {
   "cell_type": "markdown",
   "metadata": {
    "nbgrader": {
     "grade": false,
     "grade_id": "cell-703702b093bc0ac1",
     "locked": true,
     "schema_version": 1,
     "solution": false
    }
   },
   "source": [
    "__8. Find document ID and the size (in characters) of the longest email (0: Id, 21: RawText)__\n",
    "* _hint_: you can use `fold` to find the longest document through reduction\n",
    "* _return_: Tuple[str, int] (important: keep the first longest document !)"
   ]
  },
  {
   "cell_type": "code",
   "execution_count": 65,
   "metadata": {
    "nbgrader": {
     "grade": false,
     "grade_id": "cell-803731b2fe93baa1",
     "locked": false,
     "schema_version": 1,
     "solution": true
    }
   },
   "outputs": [
    {
     "data": {
      "text/plain": [
       "('3606', 98142)"
      ]
     },
     "execution_count": 65,
     "metadata": {},
     "output_type": "execute_result"
    }
   ],
   "source": [
    "def Q8():\n",
    "    ### BEGIN SOLUTION\n",
    "    doc = body.fold(lambda a, b: b if len(b[21]) > len(a[21]) else a).compute()\n",
    "    \n",
    "    return (doc[0], len(doc[21]))\n",
    "    ### END SOLUTION\n",
    "\n",
    "Q8()"
   ]
  },
  {
   "cell_type": "code",
   "execution_count": 66,
   "metadata": {
    "nbgrader": {
     "grade": true,
     "grade_id": "cell-3916000bef44802c",
     "locked": true,
     "points": 2,
     "schema_version": 1,
     "solution": false
    }
   },
   "outputs": [],
   "source": [
    "assert len(Q8()) == 2\n",
    "assert isinstance(Q8()[0], str)\n",
    "assert isinstance(Q8()[1], int)\n",
    "### BEGIN HIDDEN TESTS\n",
    "assert Q8() == ('3606', 98142)\n",
    "### END HIDDEN TESTS"
   ]
  },
  {
   "cell_type": "markdown",
   "metadata": {
    "nbgrader": {
     "grade": false,
     "grade_id": "cell-1cefceca6fae0c44",
     "locked": true,
     "schema_version": 1,
     "solution": false
    }
   },
   "source": [
    "__9. Count the number of emails sent by year (sorted by value) (6: MetadataDateSent)__\n",
    "* _hint_: you can use regexp or split to extract years from dates\n",
    "* _return_: List[Tuple[str, int]]"
   ]
  },
  {
   "cell_type": "code",
   "execution_count": 67,
   "metadata": {
    "nbgrader": {
     "grade": false,
     "grade_id": "cell-c51ba59356d3f7f0",
     "locked": false,
     "schema_version": 1,
     "solution": true
    }
   },
   "outputs": [
    {
     "data": {
      "text/plain": [
       "[('2010', 4013),\n",
       " ('2009', 3494),\n",
       " ('2012', 250),\n",
       " ('', 132),\n",
       " ('2011', 52),\n",
       " ('2014', 2),\n",
       " ('2008', 1)]"
      ]
     },
     "execution_count": 67,
     "metadata": {},
     "output_type": "execute_result"
    }
   ],
   "source": [
    "def Q9():\n",
    "    ### BEGIN SOLUTION\n",
    "    return body.pluck(6).map(lambda x: x.split('-')[0]).frequencies(sort=True).compute()\n",
    "    ### END SOLUTION\n",
    "\n",
    "Q9()"
   ]
  },
  {
   "cell_type": "code",
   "execution_count": 68,
   "metadata": {
    "nbgrader": {
     "grade": true,
     "grade_id": "cell-7a48f41b09b209a3",
     "locked": true,
     "points": 2,
     "schema_version": 1,
     "solution": false
    }
   },
   "outputs": [],
   "source": [
    "assert len(Q9()) == 7\n",
    "assert all(isinstance(row[0], str) and isinstance(row[1], int) for row in Q9())\n",
    "### BEGIN HIDDEN TESTS\n",
    "assert Q9() == [\n",
    "    ('2010', 4013),\n",
    "    ('2009', 3494),\n",
    "    ('2012', 250),\n",
    "    ('', 132),\n",
    "    ('2011', 52),\n",
    "    ('2014', 2),\n",
    "    ('2008', 1)\n",
    "]\n",
    "### END HIDDEN TESTS"
   ]
  },
  {
   "cell_type": "markdown",
   "metadata": {
    "nbgrader": {
     "grade": false,
     "grade_id": "cell-c6c368eb5e0a3cad",
     "locked": true,
     "schema_version": 1,
     "solution": false
    }
   },
   "source": [
    "__10. Find the number of emails that contain the string \"classified\" (20: ExtractedBodyText)__\n",
    "* __note__: the answer must include derived words like \"unclassified\" or \"misclassified\"\n",
    "* _hint_: use `str.lower` to lowercase the text prior to filtering \n",
    "* _return_: int"
   ]
  },
  {
   "cell_type": "code",
   "execution_count": 69,
   "metadata": {
    "nbgrader": {
     "grade": false,
     "grade_id": "cell-c5c2bdae3fd3601f",
     "locked": false,
     "schema_version": 1,
     "solution": true
    }
   },
   "outputs": [
    {
     "data": {
      "text/plain": [
       "40"
      ]
     },
     "execution_count": 69,
     "metadata": {},
     "output_type": "execute_result"
    }
   ],
   "source": [
    "def Q10():\n",
    "    ### BEGIN SOLUTION\n",
    "    return body.pluck(20).str.lower().filter(lambda text: 'classified' in text).count().compute()\n",
    "    ### END SOLUTION\n",
    "\n",
    "Q10()"
   ]
  },
  {
   "cell_type": "code",
   "execution_count": 70,
   "metadata": {
    "nbgrader": {
     "grade": true,
     "grade_id": "cell-3a108cbb112130ff",
     "locked": true,
     "points": 2,
     "schema_version": 1,
     "solution": false
    }
   },
   "outputs": [],
   "source": [
    "assert isinstance(Q10(), int)\n",
    "### BEGIN HIDDEN TESTS\n",
    "assert Q10() == 40\n",
    "### END HIDDEN TESTS"
   ]
  }
 ],
 "metadata": {
  "celltoolbar": "Create Assignment",
  "kernelspec": {
   "display_name": "Python 3",
   "language": "python",
   "name": "python3"
  },
  "language_info": {
   "codemirror_mode": {
    "name": "ipython",
    "version": 3
   },
   "file_extension": ".py",
   "mimetype": "text/x-python",
   "name": "python",
   "nbconvert_exporter": "python",
   "pygments_lexer": "ipython3",
   "version": "3.7.0"
  }
 },
 "nbformat": 4,
 "nbformat_minor": 2
}
