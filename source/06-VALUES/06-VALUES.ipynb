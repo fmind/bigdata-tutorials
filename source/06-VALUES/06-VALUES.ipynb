{
 "cells": [
  {
   "cell_type": "markdown",
   "metadata": {
    "nbgrader": {
     "grade": false,
     "grade_id": "cell-30e9a7c49790a0f2",
     "locked": true,
     "schema_version": 3,
     "solution": false
    }
   },
   "source": [
    "# Tutorial 6: The Value of Values"
   ]
  },
  {
   "cell_type": "markdown",
   "metadata": {
    "nbgrader": {
     "grade": false,
     "grade_id": "cell-36912ea78749d08d",
     "locked": true,
     "schema_version": 3,
     "solution": false
    }
   },
   "source": [
    "__The goal of this assignment is to answer 10 questions related to [a talk on programming from Rich Hickey](https://youtu.be/-6BsiVyC1kM).__\n",
    "\n",
    "I think this talk is important to develop your critical regard on the current data management landscape.\n",
    "\n",
    "I also hope this talk will open your mind on alternative solutions to store data and program software.\n",
    "\n",
    "**For each question, your function should return the number associated to the answer.**\n",
    "\n",
    "There is only one valid answer per question.\n",
    "\n",
    "**Example: What is the sound of a dog ?**\n",
    "1. meow\n",
    "2. **woof**\n",
    "3. hoot\n",
    "4. honk\n",
    "\n",
    "```python\n",
    "def Q0():\n",
    "    return 2\n",
    "```\n",
    "\n",
    "__Grade scale__: 10 points\n",
    "- __correct answer__: 1 points\n",
    "- __incorrect answer__: 0 points"
   ]
  },
  {
   "cell_type": "code",
   "execution_count": 9,
   "metadata": {
    "nbgrader": {
     "grade": false,
     "grade_id": "cell-bf66d961f8334e8e",
     "locked": true,
     "schema_version": 3,
     "solution": false
    }
   },
   "outputs": [
    {
     "data": {
      "text/html": [
       "<iframe width=\"980\" height=\"600\" src=\"https://www.youtube.com/embed/-6BsiVyC1kM\" frameborder=\"0\" allowfullscreen></iframe>"
      ],
      "text/plain": [
       "<IPython.core.display.HTML object>"
      ]
     },
     "execution_count": 9,
     "metadata": {},
     "output_type": "execute_result"
    }
   ],
   "source": [
    "from IPython.display import HTML\n",
    "\n",
    "HTML('<iframe width=\"980\" height=\"600\" src=\"https://www.youtube.com/embed/-6BsiVyC1kM\" frameborder=\"0\" allowfullscreen></iframe>')"
   ]
  },
  {
   "cell_type": "markdown",
   "metadata": {
    "nbgrader": {
     "grade": false,
     "grade_id": "cell-cbca6f7bfb85d807",
     "locked": true,
     "schema_version": 3,
     "solution": false
    }
   },
   "source": [
    "# Questions"
   ]
  },
  {
   "cell_type": "markdown",
   "metadata": {
    "nbgrader": {
     "grade": false,
     "grade_id": "cell-0c90b835dbcffeca",
     "locked": true,
     "schema_version": 3,
     "solution": false
    }
   },
   "source": [
    "__1. How would you define the concept of \"Place Oriented Programming\" ?__\n",
    "1. Maintaining information in sorted order\n",
    "2. Allocating memory prior to data processing\n",
    "3. Replacing old information by newer information\n",
    "4. Allowing programmer to travel around the world"
   ]
  },
  {
   "cell_type": "code",
   "execution_count": 10,
   "metadata": {
    "nbgrader": {
     "grade": false,
     "grade_id": "cell-af420023b7676ec1",
     "locked": false,
     "schema_version": 3,
     "solution": true
    }
   },
   "outputs": [
    {
     "data": {
      "text/plain": [
       "3"
      ]
     },
     "execution_count": 10,
     "metadata": {},
     "output_type": "execute_result"
    }
   ],
   "source": [
    "def Q1():\n",
    "    ### BEGIN SOLUTION\n",
    "    return 3\n",
    "    ### END SOLUTION\n",
    "\n",
    "Q1()"
   ]
  },
  {
   "cell_type": "code",
   "execution_count": 11,
   "metadata": {
    "nbgrader": {
     "grade": true,
     "grade_id": "cell-38b42e490724ca6d",
     "locked": true,
     "points": 1,
     "schema_version": 3,
     "solution": false
    }
   },
   "outputs": [],
   "source": [
    "assert isinstance(Q1(), int)\n",
    "### BEGIN HIDDEN TESTS\n",
    "assert Q1() == 3\n",
    "### END HIDDEN TESTS"
   ]
  },
  {
   "cell_type": "markdown",
   "metadata": {
    "nbgrader": {
     "grade": false,
     "grade_id": "cell-ce65452c27ac2f2f",
     "locked": true,
     "schema_version": 3,
     "solution": false
    }
   },
   "source": [
    "__2. What was the main reason to justify the early use of Place Oriented Programming ?__\n",
    "1. It was the only way to code on a computer\n",
    "2. Programmers at the time were all idiots\n",
    "3. Memory resources were too limited\n",
    "4. Human resources were too limited"
   ]
  },
  {
   "cell_type": "code",
   "execution_count": 12,
   "metadata": {
    "nbgrader": {
     "grade": false,
     "grade_id": "cell-b969bb555ff6e41f",
     "locked": false,
     "schema_version": 3,
     "solution": true
    }
   },
   "outputs": [
    {
     "data": {
      "text/plain": [
       "3"
      ]
     },
     "execution_count": 12,
     "metadata": {},
     "output_type": "execute_result"
    }
   ],
   "source": [
    "def Q2():\n",
    "    ### BEGIN SOLUTION\n",
    "    return 3\n",
    "    ### END SOLUTION\n",
    "\n",
    "Q2()"
   ]
  },
  {
   "cell_type": "code",
   "execution_count": 13,
   "metadata": {
    "nbgrader": {
     "grade": true,
     "grade_id": "cell-12c7bfa02b131299",
     "locked": true,
     "points": 1,
     "schema_version": 3,
     "solution": false
    }
   },
   "outputs": [],
   "source": [
    "assert isinstance(Q2(), int)\n",
    "### BEGIN HIDDEN TESTS\n",
    "assert Q2() == 3\n",
    "### END HIDDEN TESTS"
   ]
  },
  {
   "cell_type": "markdown",
   "metadata": {
    "nbgrader": {
     "grade": false,
     "grade_id": "cell-d708e6866bc861a8",
     "locked": true,
     "schema_version": 3,
     "solution": false
    }
   },
   "source": [
    "__3. A value is not ...__\n",
    "1. shareable \n",
    "2. immutable\n",
    "3. changeable\n",
    "4. semantically transparent"
   ]
  },
  {
   "cell_type": "code",
   "execution_count": 14,
   "metadata": {
    "nbgrader": {
     "grade": false,
     "grade_id": "cell-4a5f68774ae2d9f4",
     "locked": false,
     "schema_version": 3,
     "solution": true
    }
   },
   "outputs": [
    {
     "data": {
      "text/plain": [
       "3"
      ]
     },
     "execution_count": 14,
     "metadata": {},
     "output_type": "execute_result"
    }
   ],
   "source": [
    "def Q3():\n",
    "    ### BEGIN SOLUTION\n",
    "    return 3\n",
    "    ### END SOLUTION\n",
    "\n",
    "Q3()"
   ]
  },
  {
   "cell_type": "code",
   "execution_count": 15,
   "metadata": {
    "nbgrader": {
     "grade": true,
     "grade_id": "cell-d267f272cd2eca06",
     "locked": true,
     "points": 1,
     "schema_version": 3,
     "solution": false
    }
   },
   "outputs": [],
   "source": [
    "assert isinstance(Q3(), int)\n",
    "### BEGIN HIDDEN TESTS\n",
    "assert Q3() == 3\n",
    "### END HIDDEN TESTS"
   ]
  },
  {
   "cell_type": "markdown",
   "metadata": {
    "nbgrader": {
     "grade": false,
     "grade_id": "cell-56516fa49da508ce",
     "locked": true,
     "schema_version": 3,
     "solution": false
    }
   },
   "source": [
    "__4. Which data structure is not a value in Python ?__\n",
    "1. an int\n",
    "2. a tuple\n",
    "3. a string\n",
    "4. a list"
   ]
  },
  {
   "cell_type": "code",
   "execution_count": 16,
   "metadata": {
    "nbgrader": {
     "grade": false,
     "grade_id": "cell-5151e01f60804944",
     "locked": false,
     "schema_version": 3,
     "solution": true
    }
   },
   "outputs": [
    {
     "data": {
      "text/plain": [
       "4"
      ]
     },
     "execution_count": 16,
     "metadata": {},
     "output_type": "execute_result"
    }
   ],
   "source": [
    "def Q4():\n",
    "    ### BEGIN SOLUTION\n",
    "    return 4\n",
    "    ### END SOLUTION\n",
    "\n",
    "Q4()"
   ]
  },
  {
   "cell_type": "code",
   "execution_count": 17,
   "metadata": {
    "nbgrader": {
     "grade": true,
     "grade_id": "cell-481746201e851626",
     "locked": true,
     "points": 1,
     "schema_version": 3,
     "solution": false
    }
   },
   "outputs": [],
   "source": [
    "assert isinstance(Q4(), int)\n",
    "### BEGIN HIDDEN TESTS\n",
    "assert Q4() == 4\n",
    "### END HIDDEN TESTS"
   ]
  },
  {
   "cell_type": "markdown",
   "metadata": {
    "nbgrader": {
     "grade": false,
     "grade_id": "cell-f0f81e40ce77a867",
     "locked": true,
     "schema_version": 3,
     "solution": false
    }
   },
   "source": [
    "__5. Which programming method should be forbidden on a value ?__\n",
    "1. copy\n",
    "2. save\n",
    "3. accrete\n",
    "4. overwrite"
   ]
  },
  {
   "cell_type": "code",
   "execution_count": 18,
   "metadata": {
    "nbgrader": {
     "grade": false,
     "grade_id": "cell-0d6b6981c043eae0",
     "locked": false,
     "schema_version": 3,
     "solution": true
    }
   },
   "outputs": [
    {
     "data": {
      "text/plain": [
       "4"
      ]
     },
     "execution_count": 18,
     "metadata": {},
     "output_type": "execute_result"
    }
   ],
   "source": [
    "def Q5():\n",
    "    ### BEGIN SOLUTION\n",
    "    return 4\n",
    "    ### END SOLUTION\n",
    "\n",
    "Q5()"
   ]
  },
  {
   "cell_type": "code",
   "execution_count": 19,
   "metadata": {
    "nbgrader": {
     "grade": true,
     "grade_id": "cell-d7fc18b7ec8a407d",
     "locked": true,
     "points": 1,
     "schema_version": 3,
     "solution": false
    }
   },
   "outputs": [],
   "source": [
    "assert isinstance(Q5(), int)\n",
    "### BEGIN HIDDEN TESTS\n",
    "assert Q5() == 4\n",
    "### END HIDDEN TESTS"
   ]
  },
  {
   "cell_type": "markdown",
   "metadata": {
    "nbgrader": {
     "grade": false,
     "grade_id": "cell-2090ab64121d7a37",
     "locked": true,
     "schema_version": 3,
     "solution": false
    }
   },
   "source": [
    "__6. Which important notion is incorporated to the notion of fact compared to a value ?__\n",
    "1. location\n",
    "2. space\n",
    "3. time\n",
    "4. change"
   ]
  },
  {
   "cell_type": "code",
   "execution_count": 20,
   "metadata": {
    "nbgrader": {
     "grade": false,
     "grade_id": "cell-ed5f0b03a1675a58",
     "locked": false,
     "schema_version": 3,
     "solution": true
    }
   },
   "outputs": [
    {
     "data": {
      "text/plain": [
       "3"
      ]
     },
     "execution_count": 20,
     "metadata": {},
     "output_type": "execute_result"
    }
   ],
   "source": [
    "def Q6():\n",
    "    ### BEGIN SOLUTION\n",
    "    return 3\n",
    "    ### END SOLUTION\n",
    "\n",
    "Q6()"
   ]
  },
  {
   "cell_type": "code",
   "execution_count": 21,
   "metadata": {
    "nbgrader": {
     "grade": true,
     "grade_id": "cell-93ef4ae7112f9795",
     "locked": true,
     "points": 1,
     "schema_version": 3,
     "solution": false
    }
   },
   "outputs": [],
   "source": [
    "assert isinstance(Q6(), int)\n",
    "### BEGIN HIDDEN TESTS\n",
    "assert Q6() == 3\n",
    "### END HIDDEN TESTS"
   ]
  },
  {
   "cell_type": "markdown",
   "metadata": {
    "nbgrader": {
     "grade": false,
     "grade_id": "cell-497acc804e90967f",
     "locked": true,
     "schema_version": 3,
     "solution": false
    }
   },
   "source": [
    "__7. What does a fact oriented system support ?__\n",
    "1. decision making\n",
    "2. improved disk usage\n",
    "3. improved performance\n",
    "4. focus on present time"
   ]
  },
  {
   "cell_type": "code",
   "execution_count": 22,
   "metadata": {
    "nbgrader": {
     "grade": false,
     "grade_id": "cell-6a1daef61811752d",
     "locked": false,
     "schema_version": 3,
     "solution": true
    }
   },
   "outputs": [
    {
     "data": {
      "text/plain": [
       "1"
      ]
     },
     "execution_count": 22,
     "metadata": {},
     "output_type": "execute_result"
    }
   ],
   "source": [
    "def Q7():\n",
    "    ### BEGIN SOLUTION\n",
    "    return 1\n",
    "    ### END SOLUTION\n",
    "\n",
    "Q7()"
   ]
  },
  {
   "cell_type": "code",
   "execution_count": 23,
   "metadata": {
    "nbgrader": {
     "grade": true,
     "grade_id": "cell-fe9ea22acb67684f",
     "locked": true,
     "points": 1,
     "schema_version": 3,
     "solution": false
    }
   },
   "outputs": [],
   "source": [
    "assert isinstance(Q7(), int)\n",
    "### BEGIN HIDDEN TESTS\n",
    "assert Q7() == 1\n",
    "### END HIDDEN TESTS"
   ]
  },
  {
   "cell_type": "markdown",
   "metadata": {
    "nbgrader": {
     "grade": false,
     "grade_id": "cell-703702b093bc0ac1",
     "locked": true,
     "schema_version": 3,
     "solution": false
    }
   },
   "source": [
    "__8. Which system already supports facts oriented programming ?__\n",
    "1. source control\n",
    "2. file systems\n",
    "3. sql databases\n",
    "4. nosql databases"
   ]
  },
  {
   "cell_type": "code",
   "execution_count": 24,
   "metadata": {
    "nbgrader": {
     "grade": false,
     "grade_id": "cell-803731b2fe93baa1",
     "locked": false,
     "schema_version": 3,
     "solution": true
    }
   },
   "outputs": [
    {
     "data": {
      "text/plain": [
       "1"
      ]
     },
     "execution_count": 24,
     "metadata": {},
     "output_type": "execute_result"
    }
   ],
   "source": [
    "def Q8():\n",
    "    ### BEGIN SOLUTION\n",
    "    return 1\n",
    "    ### END SOLUTION\n",
    "\n",
    "Q8()"
   ]
  },
  {
   "cell_type": "code",
   "execution_count": 25,
   "metadata": {
    "nbgrader": {
     "grade": true,
     "grade_id": "cell-3916000bef44802c",
     "locked": true,
     "points": 1,
     "schema_version": 3,
     "solution": false
    }
   },
   "outputs": [],
   "source": [
    "assert isinstance(Q8(), int)\n",
    "### BEGIN HIDDEN TESTS\n",
    "assert Q8() == 1\n",
    "### END HIDDEN TESTS"
   ]
  },
  {
   "cell_type": "markdown",
   "metadata": {
    "nbgrader": {
     "grade": false,
     "grade_id": "cell-1cefceca6fae0c44",
     "locked": true,
     "schema_version": 3,
     "solution": false
    }
   },
   "source": [
    "__9. What is the main problem of Big Data according to Rich Hickey ?__\n",
    "1. current systems only remember the last thing\n",
    "2. we can't handle high volume of data\n",
    "3. databases are not fast enough\n",
    "4. MapReduce is too complex"
   ]
  },
  {
   "cell_type": "code",
   "execution_count": 26,
   "metadata": {
    "nbgrader": {
     "grade": false,
     "grade_id": "cell-c51ba59356d3f7f0",
     "locked": false,
     "schema_version": 3,
     "solution": true
    }
   },
   "outputs": [
    {
     "data": {
      "text/plain": [
       "1"
      ]
     },
     "execution_count": 26,
     "metadata": {},
     "output_type": "execute_result"
    }
   ],
   "source": [
    "def Q9():\n",
    "    ### BEGIN SOLUTION\n",
    "    return 1\n",
    "    ### END SOLUTION\n",
    "\n",
    "Q9()"
   ]
  },
  {
   "cell_type": "code",
   "execution_count": 27,
   "metadata": {
    "nbgrader": {
     "grade": true,
     "grade_id": "cell-7a48f41b09b209a3",
     "locked": true,
     "points": 1,
     "schema_version": 3,
     "solution": false
    }
   },
   "outputs": [],
   "source": [
    "assert isinstance(Q9(), int)\n",
    "### BEGIN HIDDEN TESTS\n",
    "assert Q9() == 1\n",
    "### END HIDDEN TESTS"
   ]
  },
  {
   "cell_type": "markdown",
   "metadata": {
    "nbgrader": {
     "grade": false,
     "grade_id": "cell-c6c368eb5e0a3cad",
     "locked": true,
     "schema_version": 3,
     "solution": false
    }
   },
   "source": [
    "__10. Why do we still rely on place orientation for our programming languages and databases systems ?__\n",
    "1. we lack computer resources\n",
    "2. we cannot log our system information\n",
    "3. the software community is not familiar with these concepts\n",
    "4. the cost for setting an alternative system would be too high"
   ]
  },
  {
   "cell_type": "code",
   "execution_count": 28,
   "metadata": {
    "nbgrader": {
     "grade": false,
     "grade_id": "cell-c5c2bdae3fd3601f",
     "locked": false,
     "schema_version": 3,
     "solution": true
    }
   },
   "outputs": [
    {
     "data": {
      "text/plain": [
       "3"
      ]
     },
     "execution_count": 28,
     "metadata": {},
     "output_type": "execute_result"
    }
   ],
   "source": [
    "def Q10():\n",
    "    ### BEGIN SOLUTION\n",
    "    return 3\n",
    "    ### END SOLUTION\n",
    "\n",
    "Q10()"
   ]
  },
  {
   "cell_type": "code",
   "execution_count": 29,
   "metadata": {
    "nbgrader": {
     "grade": true,
     "grade_id": "cell-3a108cbb112130ff",
     "locked": true,
     "points": 1,
     "schema_version": 3,
     "solution": false
    }
   },
   "outputs": [],
   "source": [
    "assert isinstance(Q10(), int)\n",
    "### BEGIN HIDDEN TESTS\n",
    "assert Q10() == 3\n",
    "### END HIDDEN TESTS"
   ]
  }
 ],
 "metadata": {
  "celltoolbar": "Create Assignment",
  "kernelspec": {
   "display_name": "Python 3",
   "language": "python",
   "name": "python3"
  },
  "language_info": {
   "codemirror_mode": {
    "name": "ipython",
    "version": 3
   },
   "file_extension": ".py",
   "mimetype": "text/x-python",
   "name": "python",
   "nbconvert_exporter": "python",
   "pygments_lexer": "ipython3",
   "version": "3.7.3"
  }
 },
 "nbformat": 4,
 "nbformat_minor": 2
}
