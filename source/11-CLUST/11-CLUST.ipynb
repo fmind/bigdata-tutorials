{
 "cells": [
  {
   "cell_type": "markdown",
   "metadata": {
    "nbgrader": {
     "grade": false,
     "grade_id": "cell-30e9a7c49790a0f2",
     "locked": true,
     "schema_version": 3,
     "solution": false
    }
   },
   "source": [
    "# Tutorial 11: Clustering"
   ]
  },
  {
   "cell_type": "markdown",
   "metadata": {
    "nbgrader": {
     "grade": false,
     "grade_id": "cell-36912ea78749d08d",
     "locked": true,
     "schema_version": 3,
     "solution": false
    }
   },
   "source": [
    "__The goal of this assignment is to implement your own version of the k-means algorithm.__\n",
    "\n",
    "First, you must create 5 intermediate functions to help you divide and implement the algorithm.\n",
    "\n",
    "At the end of the notebook, the algorithm should achieve a 100% score on the given dataset.\n",
    "\n",
    "__Grade scale__: 20 points\n",
    "- __correct function__: 2 points\n",
    "- __correct given result__: 4 points\n",
    "- __correct hidden result__: 6 points\n",
    "\n",
    "__Further documentations__:\n",
    "* https://learnxinyminutes.com/docs/python/\n",
    "* https://en.wikipedia.org/wiki/K-means_clustering\n",
    "* http://stanford.edu/~cpiech/cs221/handouts/kmeans.html"
   ]
  },
  {
   "cell_type": "markdown",
   "metadata": {
    "nbgrader": {
     "grade": false,
     "grade_id": "cell-cad05a4141096aae",
     "locked": true,
     "schema_version": 3,
     "solution": false
    }
   },
   "source": [
    "# Core"
   ]
  },
  {
   "cell_type": "code",
   "execution_count": 59,
   "metadata": {
    "nbgrader": {
     "grade": false,
     "grade_id": "cell-4a6ef88e0b3c3360",
     "locked": true,
     "schema_version": 3,
     "solution": false
    }
   },
   "outputs": [],
   "source": [
    "# to display plots\n",
    "%matplotlib inline\n",
    "\n",
    "import math\n",
    "\n",
    "import matplotlib.pyplot as plt\n",
    "\n",
    "from sklearn.cluster import KMeans\n",
    "from sklearn.metrics import adjusted_rand_score\n",
    "from sklearn.datasets.samples_generator import make_blobs"
   ]
  },
  {
   "cell_type": "code",
   "execution_count": 4,
   "metadata": {
    "nbgrader": {
     "grade": false,
     "grade_id": "cell-b2ab01ee37675928",
     "locked": true,
     "schema_version": 3,
     "solution": false
    }
   },
   "outputs": [],
   "source": [
    "# generate 100 data points that have 2 features, then divide them into 3 clusters\n",
    "# we shuffle the point in a deterministic way to have the same version on our computers\n",
    "X, y = make_blobs(n_samples=100, n_features=2, centers=3, cluster_std=1, shuffle=True, random_state=100)"
   ]
  },
  {
   "cell_type": "code",
   "execution_count": 5,
   "metadata": {
    "nbgrader": {
     "grade": false,
     "grade_id": "cell-9845bd902efd8101",
     "locked": true,
     "schema_version": 3,
     "solution": false
    }
   },
   "outputs": [
    {
     "data": {
      "text/plain": [
       "array([[  0.33681846,  -3.40287961],\n",
       "       [ -9.48324266,  -8.66266052],\n",
       "       [ -1.93336328,   5.70953908],\n",
       "       [-10.03182406,  -5.57834393],\n",
       "       [  0.54186078,  -4.37693628]])"
      ]
     },
     "execution_count": 5,
     "metadata": {},
     "output_type": "execute_result"
    }
   ],
   "source": [
    "# 5 data points\n",
    "# col: features\n",
    "# row: points\n",
    "X[:5]"
   ]
  },
  {
   "cell_type": "code",
   "execution_count": 82,
   "metadata": {
    "nbgrader": {
     "grade": false,
     "grade_id": "cell-b8e217f127b29f5a",
     "locked": true,
     "schema_version": 3,
     "solution": false
    }
   },
   "outputs": [
    {
     "data": {
      "text/plain": [
       "array([0, 2, 1, 2, 0, 2, 1, 1, 0, 2, 0, 2, 1, 0, 1, 1, 0, 2, 2, 0, 0, 0,\n",
       "       0, 2, 1, 0, 2, 1, 0, 2, 0, 1, 0, 2, 2, 0, 0, 2, 1, 2, 1, 0, 2, 1,\n",
       "       1, 2, 2, 1, 1, 1, 1, 0, 2, 2, 0, 0, 2, 0, 2, 0, 1, 0, 0, 0, 1, 0,\n",
       "       1, 2, 2, 1, 0, 0, 2, 2, 1, 0, 2, 1, 1, 2, 2, 0, 1, 1, 0, 2, 1, 2,\n",
       "       2, 1, 2, 1, 1, 2, 1, 1, 0, 0, 1, 0])"
      ]
     },
     "execution_count": 82,
     "metadata": {},
     "output_type": "execute_result"
    }
   ],
   "source": [
    "# data point labels\n",
    "# 3 clusters: 0, 1, 2\n",
    "y"
   ]
  },
  {
   "cell_type": "code",
   "execution_count": 8,
   "metadata": {
    "nbgrader": {
     "grade": false,
     "grade_id": "cell-24845c0053c093a9",
     "locked": true,
     "schema_version": 3,
     "solution": false
    }
   },
   "outputs": [
    {
     "data": {
      "image/png": "[encoded data removed]",
      "text/plain": [
       "<Figure size 432x288 with 1 Axes>"
      ]
     },
     "metadata": {
      "needs_background": "light"
     },
     "output_type": "display_data"
    }
   ],
   "source": [
    "# draw a scatter plot of the points\n",
    "# X[:, 0]: all points, 1st dimension\n",
    "# X[:, 1]: all points, 2nd dimension\n",
    "# c: color of the points (cluster label)\n",
    "plt.scatter(X[:, 0], X[:, 1], c=y, s=30);"
   ]
  },
  {
   "cell_type": "markdown",
   "metadata": {
    "nbgrader": {
     "grade": false,
     "grade_id": "cell-586b08f0e543e3cc",
     "locked": true,
     "schema_version": 3,
     "solution": false
    }
   },
   "source": [
    "# Example"
   ]
  },
  {
   "cell_type": "code",
   "execution_count": 66,
   "metadata": {
    "nbgrader": {
     "grade": false,
     "grade_id": "cell-6af93bb1f92e6793",
     "locked": true,
     "schema_version": 3,
     "solution": false
    }
   },
   "outputs": [
    {
     "data": {
      "text/plain": [
       "array([1, 0, 2, 0, 1, 0, 2, 2, 1, 0, 1, 0, 2, 1, 2, 2, 1, 0, 0, 1, 1, 1,\n",
       "       1, 0, 2, 1, 0, 2, 1, 0, 1, 2, 1, 0, 0, 1, 1, 0, 2, 0, 2, 1, 0, 2,\n",
       "       2, 0, 0, 2, 2, 2, 2, 1, 0, 0, 1, 1, 0, 1, 0, 1, 2, 1, 1, 1, 2, 1,\n",
       "       2, 0, 0, 2, 1, 1, 0, 0, 2, 1, 0, 2, 2, 0, 0, 1, 2, 2, 1, 0, 2, 0,\n",
       "       0, 2, 0, 2, 2, 0, 2, 2, 1, 1, 2, 1], dtype=int32)"
      ]
     },
     "execution_count": 66,
     "metadata": {},
     "output_type": "execute_result"
    }
   ],
   "source": [
    "# we use the k-means implementation of sklearn\n",
    "# to demonstrate its usage on our dataset\n",
    "# here, we create and fit a new model  \n",
    "model = KMeans(n_clusters=3).fit(X)\n",
    "\n",
    "# collect the results\n",
    "labels = model.labels_\n",
    "\n",
    "labels"
   ]
  },
  {
   "cell_type": "code",
   "execution_count": 16,
   "metadata": {
    "nbgrader": {
     "grade": false,
     "grade_id": "cell-e35a1318553bffbe",
     "locked": true,
     "schema_version": 3,
     "solution": false
    }
   },
   "outputs": [
    {
     "name": "stdout",
     "output_type": "stream",
     "text": [
      "Score: 100.0000%\n"
     ]
    }
   ],
   "source": [
    "# compare the resulting labels with the true labels\n",
    "# the function should give a rand score of 100%\n",
    "score = adjusted_rand_score(y, labels)\n",
    "print(\"Score: {:0.4%}\".format(score))"
   ]
  },
  {
   "cell_type": "code",
   "execution_count": 17,
   "metadata": {
    "nbgrader": {
     "grade": false,
     "grade_id": "cell-ca4d25cd55f85e0d",
     "locked": true,
     "schema_version": 3,
     "solution": false
    }
   },
   "outputs": [
    {
     "data": {
      "image/png": "[encoded data removed]",
      "text/plain": [
       "<Figure size 432x288 with 1 Axes>"
      ]
     },
     "metadata": {
      "needs_background": "light"
     },
     "output_type": "display_data"
    }
   ],
   "source": [
    "# draw the proposed labels on a scatter plot\n",
    "plt.scatter(X[:, 0], X[:, 1], c=labels, s=30);"
   ]
  },
  {
   "cell_type": "markdown",
   "metadata": {
    "nbgrader": {
     "grade": false,
     "grade_id": "cell-c211cad31db8279c",
     "locked": true,
     "schema_version": 3,
     "solution": false
    }
   },
   "source": [
    "# Functions"
   ]
  },
  {
   "cell_type": "code",
   "execution_count": 19,
   "metadata": {
    "nbgrader": {
     "grade": false,
     "grade_id": "cell-3d7837de4e577403",
     "locked": false,
     "schema_version": 3,
     "solution": true
    }
   },
   "outputs": [],
   "source": [
    "def distance(a, b):\n",
    "    \"\"\"Compute the euclidean distance between 2 points with n dimensions.\"\"\"    \n",
    "    d = 0\n",
    "    ### BEGIN SOLUTION\n",
    "    for x, y in zip(a, b):\n",
    "        d += (x-y)**2\n",
    "    d = math.sqrt(d)\n",
    "    ### END SOLUTION\n",
    "    return d"
   ]
  },
  {
   "cell_type": "code",
   "execution_count": 27,
   "metadata": {
    "nbgrader": {
     "grade": true,
     "grade_id": "cell-a0bd5e1c203a97d8",
     "locked": true,
     "points": 2,
     "schema_version": 3,
     "solution": false
    }
   },
   "outputs": [],
   "source": [
    "# points with 1 dimension\n",
    "assert distance([1], [1]) == 0.0\n",
    "assert distance([0], [9]) == 9.0\n",
    "assert distance([9], [0]) == 9.0\n",
    "assert distance([2], [8]) == 6.0\n",
    "# points with 2 dimensions\n",
    "assert distance([2, 2], [2, 2]) == 0.0\n",
    "assert 2.2360 <= distance([3, 6], [2, 8]) <= 2.2361\n",
    "assert 9.8994 <= distance([1, 2], [8, 9]) <= 9.8995\n",
    "# points with 3 dimensions\n",
    "assert distance([3, 3, 3], [3, 3, 3]) == 0.0\n",
    "assert 10.7703 <= distance([1, 2, 3], [9, 8, 7]) <= 10.7704\n",
    "assert 1.7320 <= distance([2, 4, 6], [3, 5, 7]) <= 1.7321\n",
    "### BEGIN HIDDEN TESTS\n",
    "assert distance([50], [100]) == distance([100], [50]) == 50.0\n",
    "assert 58.9406 <= distance([32, 39], [17, 96]) <= 58.9407\n",
    "assert 86.57944 <= distance([23, 52, 4], [9, 98, 76]) <= 86.57945\n",
    "### END HIDDEN TESTS"
   ]
  },
  {
   "cell_type": "code",
   "execution_count": 21,
   "metadata": {
    "nbgrader": {
     "grade": false,
     "grade_id": "cell-1e0d02da6d74f88f",
     "locked": false,
     "schema_version": 3,
     "solution": true
    }
   },
   "outputs": [],
   "source": [
    "def initialize(points, k):\n",
    "    \"\"\"Select the k first points as the initial cluster centers.\"\"\"    \n",
    "    centers = []\n",
    "    ### BEGIN SOLUTION\n",
    "    centers = points[:k]\n",
    "    ### END SOLUTION\n",
    "    return centers"
   ]
  },
  {
   "cell_type": "code",
   "execution_count": 22,
   "metadata": {
    "nbgrader": {
     "grade": true,
     "grade_id": "cell-31a8390f526713f6",
     "locked": true,
     "points": 2,
     "schema_version": 3,
     "solution": false
    }
   },
   "outputs": [],
   "source": [
    "# points with 1 dimension\n",
    "assert initialize([[0], [1], [2], [3], [4], [5]], 1) == [[0]]\n",
    "assert initialize([[0], [1], [2], [3], [4], [5]], 2) == [[0], [1]]\n",
    "assert initialize([[0], [1], [2], [3], [4], [5]], 3) == [[0], [1], [2]]\n",
    "# points with 2 dimensions\n",
    "assert initialize([[0, 1], [2, 3], [4, 5]], 1) == [[0, 1]]\n",
    "assert initialize([[0, 1], [2, 3], [4, 5]], 2) == [[0, 1], [2, 3]]\n",
    "assert initialize([[0, 1], [2, 3], [4, 5]], 3) == [[0, 1], [2, 3], [4, 5]]\n",
    "# points with 3 dimensions\n",
    "assert initialize([[0, 1, 2], [3, 4, 5]], 1) == [[0, 1, 2]]\n",
    "assert initialize([[0, 1, 2], [3, 4, 5]], 2) == [[0, 1, 2], [3, 4, 5]]\n",
    "### BEGIN HIDDEN TESTS\n",
    "assert initialize([[100], [50], [25]], 2) == [[100], [50]]\n",
    "assert initialize([[99, 1], [98, 2], [50, 50]], 1) == [[99, 1]]\n",
    "assert initialize([[50, 50, 50], [25, 25, 25]], 2) == [[50, 50, 50], [25, 25, 25]]\n",
    "### END HIDDEN TESTS"
   ]
  },
  {
   "cell_type": "code",
   "execution_count": 25,
   "metadata": {
    "nbgrader": {
     "grade": false,
     "grade_id": "cell-c587490cc2f14078",
     "locked": false,
     "schema_version": 3,
     "solution": true
    }
   },
   "outputs": [],
   "source": [
    "def reassign(points, centers, distance=distance):\n",
    "    \"\"\"Assign each point to its closest centers and return the center index.\"\"\" \n",
    "    labels = []\n",
    "    ### BEGIN SOLUTION\n",
    "    def closest(centers, point):\n",
    "        return min(centers, key=lambda center: distance(point, center))\n",
    "    \n",
    "    labels = [centers.index(closest(centers, point)) for point in points]\n",
    "    ### END SOLUTION\n",
    "    return labels"
   ]
  },
  {
   "cell_type": "code",
   "execution_count": 28,
   "metadata": {
    "nbgrader": {
     "grade": true,
     "grade_id": "cell-a12d934fe3821562",
     "locked": true,
     "points": 2,
     "schema_version": 3,
     "solution": false
    }
   },
   "outputs": [],
   "source": [
    "# points with 1 dimension\n",
    "# left array: points, right array: centers\n",
    "# the returned value is the index of the center\n",
    "assert reassign([[1], [3], [7], [9]], [[0], [10]]) == [0, 0, 1, 1]\n",
    "assert reassign([[1], [3], [7], [9]], [[0], [100]]) == [0, 0, 0, 0]\n",
    "assert reassign([[1], [3], [7], [9]], [[100], [0]]) == [1, 1, 1, 1]\n",
    "# points with 2 dimensions\n",
    "assert reassign([[1, 1], [9, 9]], [[0, 0], [10, 10]]) == [0, 1]\n",
    "assert reassign([[1, 1], [9, 9]], [[10, 10], [0, 0]]) == [1, 0]\n",
    "assert reassign([[1, 1], [9, 9]], [[10, 10], [100, 100]]) == [0, 0]\n",
    "# points with 3 dimensions\n",
    "assert reassign([[1, 2, 3], [7, 8, 9]], [[0, 0, 0], [10, 10, 10]]) == [0, 1]\n",
    "assert reassign([[6, 7, 8], [7, 8, 9]], [[0, 0, 0], [10, 10, 10]]) == [1, 1]\n",
    "assert reassign([[1, 2, 3], [7, 8, 9]], [[0, 0, 0], [10, 100, 0]]) == [0, 0]\n",
    "### BEGIN HIDDEN TESTS\n",
    "assert reassign([[1], [10], [100], [1000]], [[0], [1000], [10000]]) == [0, 0, 0, 1]\n",
    "assert reassign([[2, 2], [20, 20], [2000, 2000]], [[0, 0], [200, 200]]) == [0, 0, 1]\n",
    "assert reassign([[10, 10, 10], [100, 100, 100]], [[3, 3, 3], [30, 30, 30], [300, 300, 300]]) == [0, 1]\n",
    "### END HIDDEN TESTS"
   ]
  },
  {
   "cell_type": "code",
   "execution_count": 42,
   "metadata": {
    "nbgrader": {
     "grade": false,
     "grade_id": "cell-c90b2ea695088d5c",
     "locked": false,
     "schema_version": 3,
     "solution": true
    }
   },
   "outputs": [],
   "source": [
    "def recompute(points, labels):\n",
    "    \"\"\"Compute the coordinates of each center based their labels.\"\"\"\n",
    "    centers = []\n",
    "    clusters = []\n",
    "    ### BEGIN SOLUTION\n",
    "    transpose = lambda xs: zip(*xs)\n",
    "    mean = lambda xs: sum(xs) / len(xs)\n",
    "    coordinate = lambda matrix: [mean(col) for col in transpose(matrix)]\n",
    "    \n",
    "    # step 1: cluster points based on labels\n",
    "    clusters = [[] for label in set(labels)]\n",
    "    for point, label in zip(points, labels):\n",
    "        clusters[label].append(point)\n",
    "        \n",
    "    # step 2: compute the mean for each cluster\n",
    "    centers = [coordinate(cluster) for cluster in clusters]\n",
    "    ### END SOLUTION\n",
    "    return centers"
   ]
  },
  {
   "cell_type": "code",
   "execution_count": 43,
   "metadata": {
    "nbgrader": {
     "grade": true,
     "grade_id": "cell-61ff27abfd948552",
     "locked": true,
     "points": 2,
     "schema_version": 3,
     "solution": false
    }
   },
   "outputs": [],
   "source": [
    "# with 1 dimension\n",
    "# return the center coordinates from their labels\n",
    "# think of it as the opposite of the reassign function\n",
    "assert recompute([[0], [2], [4], [6], [8], [10]], [0, 0, 0, 0, 0, 0]) == [[5.0]]\n",
    "assert recompute([[0], [2], [4], [6], [8], [10]], [0, 0, 0, 0, 1, 1]) == [[3.0], [9.0]]\n",
    "assert recompute([[0], [2], [4], [6], [8], [10]], [1, 0, 0, 0, 0, 1]) == [[5.0], [5.0]]\n",
    "assert recompute([[0], [2], [4], [6], [8], [10]], [0, 0, 0, 0, 0, 1]) == [[4.0], [10.0]]\n",
    "assert recompute([[0], [2], [4], [6], [8], [10]], [2, 1, 0, 0, 1, 2]) == [[5.0], [5.0], [5.0]]\n",
    "# with 2 dimensions\n",
    "assert recompute([[2, 2], [4, 4], [6, 6], [8, 8]], [0, 1, 2, 3]) == [[2, 2], [4, 4], [6, 6], [8, 8]]\n",
    "assert recompute([[2, 2], [4, 4], [6, 6], [8, 8]], [0, 1, 1, 0]) == [[5.0, 5.0], [5.0, 5.0]]\n",
    "assert recompute([[2, 2], [4, 4], [6, 6], [8, 8]], [1, 1, 0, 0]) == [[7.0, 7.0], [3.0, 3.0]]\n",
    "# with 3 dimensions\n",
    "assert recompute([[0, 2, 4], [4, 6, 8], [1, 3, 5], [5, 7, 9]], [0, 0, 0, 0]) == [[2.5, 4.5, 6.5]]\n",
    "assert recompute([[0, 2, 4], [4, 6, 8], [1, 3, 5], [5, 7, 9]], [0, 0, 1, 1]) == [[2.0, 4.0, 6.0], [3.0, 5.0, 7.0]]\n",
    "assert recompute([[0, 2, 4], [4, 6, 8], [1, 3, 5], [5, 7, 9]], [1, 0, 1, 0]) == [[4.5, 6.5, 8.5], [0.5, 2.5, 4.5]]\n",
    "### BEGIN HIDDEN TESTS\n",
    "assert recompute([[10], [20], [50], [80], [100]], [0, 0, 0, 0, 0]) == [[52.0]]\n",
    "assert recompute([[10, 1], [2, 20], [50, 50], [8, 80], [100, 10]], [0, 0, 0, 0, 0]) == [[34.0, 32.2]]\n",
    "assert recompute([[10, 10, 1], [2, 40, 20], [40, 50, 1], [10, 40, 80], [10, 0, 1]], [0, 1, 0, 1, 0]) == [[20.0, 20.0, 1.0], [6.0, 40.0, 50.0]]\n",
    "### END HIDDEN TESTS"
   ]
  },
  {
   "cell_type": "code",
   "execution_count": 50,
   "metadata": {
    "nbgrader": {
     "grade": false,
     "grade_id": "cell-83f5e4fe6ea14559",
     "locked": false,
     "schema_version": 3,
     "solution": true
    }
   },
   "outputs": [],
   "source": [
    "def converged(current, proposed):\n",
    "    \"\"\"Test that current and proposed centers have converged.\"\"\"\n",
    "    ### BEGIN SOLUTION\n",
    "    return current == proposed\n",
    "    ### END SOLUTION"
   ]
  },
  {
   "cell_type": "code",
   "execution_count": 51,
   "metadata": {
    "nbgrader": {
     "grade": true,
     "grade_id": "cell-bd78bbe7a2419bdb",
     "locked": true,
     "points": 2,
     "schema_version": 3,
     "solution": false
    }
   },
   "outputs": [],
   "source": [
    "# with 1 dimension\n",
    "assert converged([[0]], [[0]]) == True\n",
    "assert converged([[1]], [[1]]) == True\n",
    "assert converged([[1]], [[0]]) == False\n",
    "assert converged([[0]], [[1]]) == False\n",
    "assert converged([[0], [0]], [[0], [0]]) == True\n",
    "assert converged([[1], [0]], [[0], [1]]) == False\n",
    "assert converged([[0], [0]], [[0], [1]]) == False\n",
    "assert converged([[1], [0]], [[0], [0]]) == False\n",
    "# with 2 dimensions\n",
    "assert converged([[0, 0], [1, 1]], [[0, 0]]) == False\n",
    "assert converged([[0, 0], [1, 1]], [[0, 0], [1, 1]]) == True\n",
    "assert converged([[0, 0], [1, 1]], [[1, 1], [0, 0]]) == False\n",
    "assert converged([[0, 0], [1, 1]], [[2, 2], [1, 1]]) == False\n",
    "# with 3 dimensions\n",
    "assert converged([[1, 2, 3], [4, 5, 6]], [[1, 2, 3]]) == False\n",
    "assert converged([[1, 2, 3]], [[1, 2, 3], [4, 5, 6]]) == False\n",
    "assert converged([[1, 2, 3], [0, 0, 0]], [[1, 2, 3], [0, 0 ,0]]) == True\n",
    "assert converged([[1, 2, 3], [0, 0, 0]], [[0, 0, 0], [1, 2 ,3]]) == False\n",
    "### BEGIN HIDDEN TESTS\n",
    "assert converged([[0], [9], [3]], [[0], [9], [3]]) == True\n",
    "assert converged([[0, 0], [9, 9], [3, 3]], [[0, 0], [9, 9]]) == False\n",
    "assert converged([[0, 0], [9, 9]], [[0, 0], [3, 3], [9, 9]]) == False\n",
    "assert converged([[0, 0, 0], [9, 9, 9]], [[9, 9, 9], [0, 0, 0]]) == False\n",
    "### END HIDDEN TESTS"
   ]
  },
  {
   "cell_type": "markdown",
   "metadata": {},
   "source": [
    "# Algorithm"
   ]
  },
  {
   "cell_type": "code",
   "execution_count": 75,
   "metadata": {
    "nbgrader": {
     "grade": false,
     "grade_id": "cell-c010e7a7a0d99dd8",
     "locked": false,
     "schema_version": 3,
     "solution": true
    }
   },
   "outputs": [],
   "source": [
    "def kmeans(points, k, distance=distance):\n",
    "    \"\"\"Cluster points into k clusters based on distance.\"\"\"\n",
    "    ### BEGIN SOLUTION\n",
    "    centers = initialize(points, k)\n",
    "    \n",
    "    while True:\n",
    "        labels = reassign(points, centers)\n",
    "        proposed = recompute(points, labels)\n",
    "        \n",
    "        if converged(centers, proposed):\n",
    "            return labels\n",
    "        \n",
    "        centers = proposed\n",
    "    # END SOLUTION"
   ]
  },
  {
   "cell_type": "code",
   "execution_count": 83,
   "metadata": {
    "nbgrader": {
     "grade": true,
     "grade_id": "cell-fb6e6a88a1e01eed",
     "locked": true,
     "points": 4,
     "schema_version": 3,
     "solution": false
    }
   },
   "outputs": [
    {
     "data": {
      "image/png": "[encoded data removed]",
      "text/plain": [
       "<Figure size 432x288 with 1 Axes>"
      ]
     },
     "metadata": {
      "needs_background": "light"
     },
     "output_type": "display_data"
    }
   ],
   "source": [
    "### BEGIN HIDDEN TESTS\n",
    "KMeans = None\n",
    "### END HIDDEN TESTS\n",
    "labels = kmeans(X.tolist(), 3)\n",
    "\n",
    "# cluster points should have the same color\n",
    "plt.scatter(X[:, 0], X[:, 1], c=labels, s=30)\n",
    "assert adjusted_rand_score(labels, y) == 1.0"
   ]
  },
  {
   "cell_type": "code",
   "execution_count": 84,
   "metadata": {
    "nbgrader": {
     "grade": true,
     "grade_id": "cell-e4185aef7bb742b7",
     "locked": true,
     "points": 3,
     "schema_version": 3,
     "solution": false
    }
   },
   "outputs": [],
   "source": [
    "# DO NOT REMOVE THIS CELL\n",
    "### BEGIN HIDDEN TESTS\n",
    "X1, y1 = make_blobs(n_samples=100, n_features=2, centers=4, cluster_std=0.1, shuffle=True, random_state=100)\n",
    "assert adjusted_rand_score(kmeans(X1.tolist(), 4), y1) == 1.0\n",
    "### END HIDDEN TESTS"
   ]
  },
  {
   "cell_type": "code",
   "execution_count": 85,
   "metadata": {
    "nbgrader": {
     "grade": true,
     "grade_id": "cell-076af6e85bd47ad6",
     "locked": true,
     "points": 3,
     "schema_version": 3,
     "solution": false
    }
   },
   "outputs": [],
   "source": [
    "# DO NOT REMOVE THIS CELL\n",
    "### BEGIN HIDDEN TESTS\n",
    "X2, y2 = make_blobs(n_samples=100, n_features=3, centers=3, cluster_std=0.1, shuffle=True, random_state=100)\n",
    "assert adjusted_rand_score(kmeans(X2.tolist(), 3), y2) == 1.0\n",
    "### END HIDDEN TESTS"
   ]
  }
 ],
 "metadata": {
  "celltoolbar": "Create Assignment",
  "kernelspec": {
   "display_name": "Python 3",
   "language": "python",
   "name": "python3"
  },
  "language_info": {
   "codemirror_mode": {
    "name": "ipython",
    "version": 3
   },
   "file_extension": ".py",
   "mimetype": "text/x-python",
   "name": "python",
   "nbconvert_exporter": "python",
   "pygments_lexer": "ipython3",
   "version": "3.7.0"
  }
 },
 "nbformat": 4,
 "nbformat_minor": 2
}
